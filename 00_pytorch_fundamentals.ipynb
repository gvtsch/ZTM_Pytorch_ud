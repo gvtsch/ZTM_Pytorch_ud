{
  "cells": [
    {
      "cell_type": "markdown",
      "metadata": {
        "id": "8t-YEp3WRowc"
      },
      "source": [
        "# 00. Pytorch Fundamentals\n",
        "\n",
        "Resource notebook: https://www.learnpytorch.io/\n",
        "\n",
        "Questions: https://github.com/mrdbourke/pytorch-deep-learning/discussions"
      ]
    },
    {
      "cell_type": "code",
      "execution_count": 1,
      "metadata": {
        "colab": {
          "base_uri": "https://localhost:8080/"
        },
        "id": "vsbllwyuRbsp",
        "outputId": "6ac085d9-e71b-4c08-b100-4b8a010d6d8f"
      },
      "outputs": [
        {
          "name": "stdout",
          "output_type": "stream",
          "text": [
            "Hello, I'm thrilled to learn PyTorch!\n"
          ]
        }
      ],
      "source": [
        "print(\"Hello, I'm thrilled to learn PyTorch!\")"
      ]
    },
    {
      "cell_type": "code",
      "execution_count": 2,
      "metadata": {
        "colab": {
          "base_uri": "https://localhost:8080/"
        },
        "id": "prtGCE3ZRjb2",
        "outputId": "4114d3ee-de18-4f0c-da25-3edf897bb3b3"
      },
      "outputs": [
        {
          "name": "stdout",
          "output_type": "stream",
          "text": [
            "Mon Feb 10 16:48:12 2025       \n",
            "+-----------------------------------------------------------------------------------------+\n",
            "| NVIDIA-SMI 561.03                 Driver Version: 561.03         CUDA Version: 12.6     |\n",
            "|-----------------------------------------+------------------------+----------------------+\n",
            "| GPU  Name                  Driver-Model | Bus-Id          Disp.A | Volatile Uncorr. ECC |\n",
            "| Fan  Temp   Perf          Pwr:Usage/Cap |           Memory-Usage | GPU-Util  Compute M. |\n",
            "|                                         |                        |               MIG M. |\n",
            "|=========================================+========================+======================|\n",
            "|   0  NVIDIA GeForce RTX 3060 ...  WDDM  |   00000000:01:00.0  On |                  N/A |\n",
            "| N/A   55C    P8             15W /  115W |     692MiB /   6144MiB |     17%      Default |\n",
            "|                                         |                        |                  N/A |\n",
            "+-----------------------------------------+------------------------+----------------------+\n",
            "                                                                                         \n",
            "+-----------------------------------------------------------------------------------------+\n",
            "| Processes:                                                                              |\n",
            "|  GPU   GI   CI        PID   Type   Process name                              GPU Memory |\n",
            "|        ID   ID                                                               Usage      |\n",
            "|=========================================================================================|\n",
            "|    0   N/A  N/A      2332    C+G   ...5n1h2txyewy\\ShellExperienceHost.exe      N/A      |\n",
            "|    0   N/A  N/A      3896    C+G   ...Programs\\Microsoft VS Code\\Code.exe      N/A      |\n",
            "|    0   N/A  N/A      9064    C+G   C:\\Windows\\explorer.exe                     N/A      |\n",
            "|    0   N/A  N/A     10320    C+G   ...nt.CBS_cw5n1h2txyewy\\SearchHost.exe      N/A      |\n",
            "|    0   N/A  N/A     11108    C+G   ...2txyewy\\StartMenuExperienceHost.exe      N/A      |\n",
            "|    0   N/A  N/A     11360    C+G   ..._x64__cw5n1h2txyewy\\WidgetBoard.exe      N/A      |\n",
            "|    0   N/A  N/A     14696    C+G   C:\\Windows\\System32\\ShellHost.exe           N/A      |\n",
            "|    0   N/A  N/A     18780    C+G   ...s\\Toolbox\\bin\\jetbrains-toolbox.exe      N/A      |\n",
            "|    0   N/A  N/A     20956    C+G   ...__8wekyb3d8bbwe\\WindowsTerminal.exe      N/A      |\n",
            "+-----------------------------------------------------------------------------------------+\n"
          ]
        }
      ],
      "source": [
        "!nvidia-smi"
      ]
    },
    {
      "cell_type": "code",
      "execution_count": 5,
      "metadata": {
        "id": "cROvE8eqRoMC"
      },
      "outputs": [],
      "source": [
        "import torch\n",
        "import pandas as pd\n",
        "import numpy as np\n",
        "import matplotlib.pyplot as plt"
      ]
    },
    {
      "cell_type": "code",
      "execution_count": 7,
      "metadata": {
        "colab": {
          "base_uri": "https://localhost:8080/"
        },
        "id": "OihTKPW4SM5C",
        "outputId": "498323c8-9ec8-490a-d615-969f0394a820"
      },
      "outputs": [
        {
          "name": "stdout",
          "output_type": "stream",
          "text": [
            "2.6.0+cpu\n"
          ]
        }
      ],
      "source": [
        "print(torch.__version__)"
      ]
    },
    {
      "cell_type": "markdown",
      "metadata": {
        "id": "EUv2NRtHUUVG"
      },
      "source": [
        "## Introduction to Tensors"
      ]
    },
    {
      "cell_type": "markdown",
      "metadata": {
        "id": "UdTg3wkJUZIt"
      },
      "source": [
        "### Creating Tensors\n",
        "PyTorch Tensore are being created using `torch.Tensor()` -\n",
        "https://pytorch.org/docs/stable/tensors.html"
      ]
    },
    {
      "cell_type": "markdown",
      "metadata": {
        "id": "BBkkj2ybV4Dm"
      },
      "source": [
        "#### Scalar"
      ]
    },
    {
      "cell_type": "code",
      "execution_count": 8,
      "metadata": {
        "colab": {
          "base_uri": "https://localhost:8080/"
        },
        "id": "2hGBNChvScIg",
        "outputId": "bb5c2a62-556a-4d53-bd8e-5fb14aef1d7b"
      },
      "outputs": [
        {
          "name": "stdout",
          "output_type": "stream",
          "text": [
            "tensor(7)\n"
          ]
        }
      ],
      "source": [
        "# scalar\n",
        "scalar = torch.tensor(7)\n",
        "print(scalar)"
      ]
    },
    {
      "cell_type": "code",
      "execution_count": 9,
      "metadata": {
        "colab": {
          "base_uri": "https://localhost:8080/"
        },
        "id": "TvTeThVHUkqK",
        "outputId": "299218a8-7479-45db-a9c3-776a4a4d4a75"
      },
      "outputs": [
        {
          "data": {
            "text/plain": [
              "0"
            ]
          },
          "execution_count": 9,
          "metadata": {},
          "output_type": "execute_result"
        }
      ],
      "source": [
        "scalar.ndim"
      ]
    },
    {
      "cell_type": "code",
      "execution_count": 10,
      "metadata": {
        "colab": {
          "base_uri": "https://localhost:8080/"
        },
        "id": "eEG-vpFaU_DT",
        "outputId": "d2550ab4-c9d8-4e52-e160-8e2c2563be0e"
      },
      "outputs": [
        {
          "data": {
            "text/plain": [
              "7"
            ]
          },
          "execution_count": 10,
          "metadata": {},
          "output_type": "execute_result"
        }
      ],
      "source": [
        "# Get tensor back as Python int\n",
        "scalar.item()"
      ]
    },
    {
      "cell_type": "markdown",
      "metadata": {
        "id": "hvyIhdVPV6Pr"
      },
      "source": [
        "#### Vector"
      ]
    },
    {
      "cell_type": "code",
      "execution_count": 11,
      "metadata": {
        "colab": {
          "base_uri": "https://localhost:8080/"
        },
        "id": "j-tCui1PVN6L",
        "outputId": "65bc7820-a934-403d-f3ef-806927f2a7f2"
      },
      "outputs": [
        {
          "data": {
            "text/plain": [
              "tensor([7, 7])"
            ]
          },
          "execution_count": 11,
          "metadata": {},
          "output_type": "execute_result"
        }
      ],
      "source": [
        "# Vector\n",
        "vector = torch.tensor([7, 7])\n",
        "vector"
      ]
    },
    {
      "cell_type": "code",
      "execution_count": 12,
      "metadata": {
        "colab": {
          "base_uri": "https://localhost:8080/"
        },
        "id": "QIVHaGIbVcaT",
        "outputId": "68a01e92-ee83-448f-bb3c-7bfa58f68030"
      },
      "outputs": [
        {
          "data": {
            "text/plain": [
              "1"
            ]
          },
          "execution_count": 12,
          "metadata": {},
          "output_type": "execute_result"
        }
      ],
      "source": [
        "vector.ndim"
      ]
    },
    {
      "cell_type": "code",
      "execution_count": 13,
      "metadata": {
        "colab": {
          "base_uri": "https://localhost:8080/"
        },
        "id": "2d5SHfDGVhXq",
        "outputId": "0a1ebd26-f5c8-4217-97d5-f61bf73f701f"
      },
      "outputs": [
        {
          "data": {
            "text/plain": [
              "torch.Size([2])"
            ]
          },
          "execution_count": 13,
          "metadata": {},
          "output_type": "execute_result"
        }
      ],
      "source": [
        "vector.shape"
      ]
    },
    {
      "cell_type": "markdown",
      "metadata": {
        "id": "37UhUE1OV7r4"
      },
      "source": [
        "#### Matrix"
      ]
    },
    {
      "cell_type": "code",
      "execution_count": 14,
      "metadata": {
        "colab": {
          "base_uri": "https://localhost:8080/"
        },
        "id": "48Wfe-WDVi1T",
        "outputId": "0f63e477-073e-48ca-9747-b81bbddba341"
      },
      "outputs": [
        {
          "data": {
            "text/plain": [
              "tensor([[ 7,  8],\n",
              "        [ 9, 10]])"
            ]
          },
          "execution_count": 14,
          "metadata": {},
          "output_type": "execute_result"
        }
      ],
      "source": [
        "# MATRIX\n",
        "MATRIX = torch.tensor([[7, 8],\n",
        "                       [9, 10]])\n",
        "MATRIX"
      ]
    },
    {
      "cell_type": "code",
      "execution_count": 15,
      "metadata": {
        "colab": {
          "base_uri": "https://localhost:8080/"
        },
        "id": "IrKBr5bDVtLC",
        "outputId": "219397d8-ce18-401f-9b29-3765d50dd324"
      },
      "outputs": [
        {
          "data": {
            "text/plain": [
              "2"
            ]
          },
          "execution_count": 15,
          "metadata": {},
          "output_type": "execute_result"
        }
      ],
      "source": [
        "MATRIX.ndim"
      ]
    },
    {
      "cell_type": "code",
      "execution_count": 16,
      "metadata": {
        "colab": {
          "base_uri": "https://localhost:8080/"
        },
        "id": "a-95y8nmVw9T",
        "outputId": "6ec98651-5ffa-4971-d85c-777f7b171065"
      },
      "outputs": [
        {
          "data": {
            "text/plain": [
              "torch.Size([2, 2])"
            ]
          },
          "execution_count": 16,
          "metadata": {},
          "output_type": "execute_result"
        }
      ],
      "source": [
        "MATRIX.shape"
      ]
    },
    {
      "cell_type": "markdown",
      "metadata": {
        "id": "rqgD0neGV9B4"
      },
      "source": [
        "#### Tensor"
      ]
    },
    {
      "cell_type": "code",
      "execution_count": 17,
      "metadata": {
        "colab": {
          "base_uri": "https://localhost:8080/"
        },
        "id": "WuWhMAtrVyzs",
        "outputId": "95015b3b-a1a0-4741-9f29-a1e772bc7b27"
      },
      "outputs": [
        {
          "data": {
            "text/plain": [
              "tensor([[[1, 2, 3],\n",
              "         [3, 4, 5],\n",
              "         [2, 4, 5]]])"
            ]
          },
          "execution_count": 17,
          "metadata": {},
          "output_type": "execute_result"
        }
      ],
      "source": [
        "# TENSOR\n",
        "TENSOR = torch.tensor([[[1, 2, 3],\n",
        "                        [3, 4, 5],\n",
        "                        [2, 4, 5]]])\n",
        "TENSOR"
      ]
    },
    {
      "cell_type": "code",
      "execution_count": 18,
      "metadata": {
        "colab": {
          "base_uri": "https://localhost:8080/"
        },
        "id": "xsGywxC9WGxV",
        "outputId": "ef95d9c5-d8da-4331-f7d5-763207e02470"
      },
      "outputs": [
        {
          "data": {
            "text/plain": [
              "3"
            ]
          },
          "execution_count": 18,
          "metadata": {},
          "output_type": "execute_result"
        }
      ],
      "source": [
        "TENSOR.ndim"
      ]
    },
    {
      "cell_type": "code",
      "execution_count": 19,
      "metadata": {
        "colab": {
          "base_uri": "https://localhost:8080/"
        },
        "id": "ODKY4uthWMF8",
        "outputId": "365d20b9-1e0c-418b-f216-6871258130c4"
      },
      "outputs": [
        {
          "data": {
            "text/plain": [
              "torch.Size([1, 3, 3])"
            ]
          },
          "execution_count": 19,
          "metadata": {},
          "output_type": "execute_result"
        }
      ],
      "source": [
        "TENSOR.shape"
      ]
    },
    {
      "cell_type": "code",
      "execution_count": 20,
      "metadata": {
        "colab": {
          "base_uri": "https://localhost:8080/"
        },
        "id": "pYT3EIK_WNNV",
        "outputId": "322d287b-aedd-4456-9762-cd9887aeab33"
      },
      "outputs": [
        {
          "data": {
            "text/plain": [
              "tensor([[1, 2, 3],\n",
              "        [3, 4, 5],\n",
              "        [2, 4, 5]])"
            ]
          },
          "execution_count": 20,
          "metadata": {},
          "output_type": "execute_result"
        }
      ],
      "source": [
        "TENSOR[0]"
      ]
    },
    {
      "cell_type": "code",
      "execution_count": 21,
      "metadata": {
        "colab": {
          "base_uri": "https://localhost:8080/"
        },
        "id": "hJ3OqHDCkLIq",
        "outputId": "d0d7f803-204c-4664-d8f0-ec5adfe5ffba"
      },
      "outputs": [
        {
          "data": {
            "text/plain": [
              "tensor([3, 4, 5])"
            ]
          },
          "execution_count": 21,
          "metadata": {},
          "output_type": "execute_result"
        }
      ],
      "source": [
        "TENSOR[0][1]"
      ]
    },
    {
      "cell_type": "markdown",
      "metadata": {
        "id": "FX-zMmzakvu3"
      },
      "source": [
        "### Random Tensors"
      ]
    },
    {
      "cell_type": "markdown",
      "metadata": {
        "id": "KqPNdQPuk1L8"
      },
      "source": [
        "Why random tensors?\n",
        "\n",
        "Random tensors are important, because the way many neural networks learn is that they start with tensors full of random numbers and then adjust those random numbers to better represent the data.\n",
        "\n",
        "`Start with random numbers -> look at data -> update random numbers -> look at data -> update random numbers`"
      ]
    },
    {
      "cell_type": "code",
      "execution_count": 22,
      "metadata": {
        "colab": {
          "base_uri": "https://localhost:8080/"
        },
        "id": "q_LpMYmskXpE",
        "outputId": "781bd476-23a2-46fc-e33e-76e72d653211"
      },
      "outputs": [
        {
          "data": {
            "text/plain": [
              "tensor([[0.6419, 0.8565, 0.9710, 0.0465],\n",
              "        [0.5016, 0.1980, 0.1732, 0.5398],\n",
              "        [0.8223, 0.8431, 0.0628, 0.9492]])"
            ]
          },
          "execution_count": 22,
          "metadata": {},
          "output_type": "execute_result"
        }
      ],
      "source": [
        "# Create a random tensor of shape (3, 4)\n",
        "random_tensor = torch.rand(3, 4)\n",
        "random_tensor"
      ]
    },
    {
      "cell_type": "code",
      "execution_count": 23,
      "metadata": {
        "colab": {
          "base_uri": "https://localhost:8080/"
        },
        "id": "5bFlJWq5lh98",
        "outputId": "409ebe1e-6f25-416d-ad16-c2711c60e7a9"
      },
      "outputs": [
        {
          "data": {
            "text/plain": [
              "2"
            ]
          },
          "execution_count": 23,
          "metadata": {},
          "output_type": "execute_result"
        }
      ],
      "source": [
        "random_tensor.ndim"
      ]
    },
    {
      "cell_type": "code",
      "execution_count": 24,
      "metadata": {
        "colab": {
          "base_uri": "https://localhost:8080/"
        },
        "id": "AWx9M9ywlrtY",
        "outputId": "71f72611-4e81-41fe-a99f-086a4e252a4b"
      },
      "outputs": [
        {
          "data": {
            "text/plain": [
              "(torch.Size([224, 224, 3]), 3)"
            ]
          },
          "execution_count": 24,
          "metadata": {},
          "output_type": "execute_result"
        }
      ],
      "source": [
        "# Create a random tensor with similar shape to an image tensor\n",
        "random_image_size_tensor = torch.rand(size=(224, 224, 3)) # R, G, B\n",
        "random_image_size_tensor.shape, random_image_size_tensor.ndim"
      ]
    },
    {
      "cell_type": "markdown",
      "metadata": {
        "id": "C49rtiDwb25n"
      },
      "source": [
        "### Zeros and Ones"
      ]
    },
    {
      "cell_type": "code",
      "execution_count": 25,
      "metadata": {
        "colab": {
          "base_uri": "https://localhost:8080/"
        },
        "id": "T5pmjrxHmMVz",
        "outputId": "f73cea03-3918-4a59-b129-50791a3024d7"
      },
      "outputs": [
        {
          "data": {
            "text/plain": [
              "tensor([[0., 0., 0., 0.],\n",
              "        [0., 0., 0., 0.],\n",
              "        [0., 0., 0., 0.]])"
            ]
          },
          "execution_count": 25,
          "metadata": {},
          "output_type": "execute_result"
        }
      ],
      "source": [
        "# Create a tensor af all zeros\n",
        "zeros = torch.zeros(size=(3, 4))\n",
        "zeros"
      ]
    },
    {
      "cell_type": "code",
      "execution_count": 26,
      "metadata": {
        "colab": {
          "base_uri": "https://localhost:8080/"
        },
        "id": "jvSIIVYscMmd",
        "outputId": "21057bb3-3395-45ad-d357-d4e414d36b15"
      },
      "outputs": [
        {
          "data": {
            "text/plain": [
              "tensor([[1., 1., 1., 1.],\n",
              "        [1., 1., 1., 1.],\n",
              "        [1., 1., 1., 1.]])"
            ]
          },
          "execution_count": 26,
          "metadata": {},
          "output_type": "execute_result"
        }
      ],
      "source": [
        "ones = torch.ones((3, 4))\n",
        "ones"
      ]
    },
    {
      "cell_type": "code",
      "execution_count": 27,
      "metadata": {
        "colab": {
          "base_uri": "https://localhost:8080/"
        },
        "id": "lAHO-ohica1X",
        "outputId": "5a8eb8ec-648f-4978-88d5-e7e4cf1a4ea1"
      },
      "outputs": [
        {
          "data": {
            "text/plain": [
              "torch.float32"
            ]
          },
          "execution_count": 27,
          "metadata": {},
          "output_type": "execute_result"
        }
      ],
      "source": [
        "ones.dtype"
      ]
    },
    {
      "cell_type": "markdown",
      "metadata": {
        "id": "QeCojhi4clmT"
      },
      "source": [
        "### Creating a range of tensors and tensors-like"
      ]
    },
    {
      "cell_type": "code",
      "execution_count": 28,
      "metadata": {
        "colab": {
          "base_uri": "https://localhost:8080/"
        },
        "id": "S17-YrZVcs6-",
        "outputId": "55fb528c-eeb1-4aa1-b04a-61f7f102b171"
      },
      "outputs": [
        {
          "data": {
            "text/plain": [
              "tensor([ 0,  1,  2,  3,  4,  5,  6,  7,  8,  9, 10])"
            ]
          },
          "execution_count": 28,
          "metadata": {},
          "output_type": "execute_result"
        }
      ],
      "source": [
        "# Use torch.range\n",
        "one_to_ten = torch.arange(start=0, end=11, step=1)\n",
        "one_to_ten"
      ]
    },
    {
      "cell_type": "code",
      "execution_count": 29,
      "metadata": {
        "colab": {
          "base_uri": "https://localhost:8080/"
        },
        "id": "ArSUOM2ndC_e",
        "outputId": "60e4857e-7004-41a6-89d2-7e5ef3ae6222"
      },
      "outputs": [
        {
          "data": {
            "text/plain": [
              "tensor([0, 0, 0, 0, 0, 0, 0, 0, 0, 0, 0])"
            ]
          },
          "execution_count": 29,
          "metadata": {},
          "output_type": "execute_result"
        }
      ],
      "source": [
        "# Creating tensors-like\n",
        "ten_zeroes = torch.zeros_like(input=one_to_ten)\n",
        "ten_zeroes"
      ]
    },
    {
      "cell_type": "markdown",
      "metadata": {
        "id": "mQ_aZblddmfT"
      },
      "source": [
        "### Tensor datatypes\n",
        "\n",
        "**Note:** Tensor datatypes is one oh the 3 big errors one will run into with PyTorch and deep learning:\n",
        "1. Tensors not right datatype\n",
        "2. Tensors not right shape\n",
        "3. Tensors not on the right device\n",
        "\n",
        "[Precision in computing](https://en.wikipedia.org/wiki/Precision_(computer_science))"
      ]
    },
    {
      "cell_type": "code",
      "execution_count": 30,
      "metadata": {
        "colab": {
          "base_uri": "https://localhost:8080/"
        },
        "id": "sqqxb7BjdTor",
        "outputId": "a4e26b2c-4602-4cb1-dda2-36623d7e9356"
      },
      "outputs": [
        {
          "data": {
            "text/plain": [
              "tensor([3., 6., 9.])"
            ]
          },
          "execution_count": 30,
          "metadata": {},
          "output_type": "execute_result"
        }
      ],
      "source": [
        "# Float32 tensor\n",
        "float_32_tensor = torch.tensor([3., 6., 9.],\n",
        "                               dtype=None, # what datatype is the tensor, eg float16, uint8, ...\n",
        "                               device=None, # default=\"cpu\", might be \"cuda\", this is where the tensor lives\n",
        "                               requires_grad=False # Track the gradients\n",
        "                               )\n",
        "float_32_tensor"
      ]
    },
    {
      "cell_type": "code",
      "execution_count": 31,
      "metadata": {
        "colab": {
          "base_uri": "https://localhost:8080/"
        },
        "id": "J1GKBNQ0dzXS",
        "outputId": "000d59e4-b037-473e-9c35-8c195c7070f4"
      },
      "outputs": [
        {
          "data": {
            "text/plain": [
              "torch.float32"
            ]
          },
          "execution_count": 31,
          "metadata": {},
          "output_type": "execute_result"
        }
      ],
      "source": [
        "float_32_tensor.dtype"
      ]
    },
    {
      "cell_type": "code",
      "execution_count": 32,
      "metadata": {
        "colab": {
          "base_uri": "https://localhost:8080/"
        },
        "id": "GbDxRVDifRzT",
        "outputId": "9e498e04-1983-4780-ea1b-178970b9a5db"
      },
      "outputs": [
        {
          "data": {
            "text/plain": [
              "tensor([3., 6., 9.], dtype=torch.float16)"
            ]
          },
          "execution_count": 32,
          "metadata": {},
          "output_type": "execute_result"
        }
      ],
      "source": [
        "float_16_tensor = float_32_tensor.type(torch.float16)\n",
        "float_16_tensor"
      ]
    },
    {
      "cell_type": "code",
      "execution_count": 33,
      "metadata": {
        "colab": {
          "base_uri": "https://localhost:8080/"
        },
        "id": "1YXBRgRgf0Ve",
        "outputId": "d75d5b31-563a-436f-9645-4d07e4e54bcf"
      },
      "outputs": [
        {
          "data": {
            "text/plain": [
              "(tensor([ 9., 36., 81.]),)"
            ]
          },
          "execution_count": 33,
          "metadata": {},
          "output_type": "execute_result"
        }
      ],
      "source": [
        "float_16_tensor * float_32_tensor,"
      ]
    },
    {
      "cell_type": "code",
      "execution_count": 34,
      "metadata": {
        "colab": {
          "base_uri": "https://localhost:8080/"
        },
        "id": "ySJ5-cBTf6Lu",
        "outputId": "5279fdf8-307c-4ee9-c00e-c62bc79f6cc9"
      },
      "outputs": [
        {
          "data": {
            "text/plain": [
              "(tensor([3, 6, 9], dtype=torch.int32),)"
            ]
          },
          "execution_count": 34,
          "metadata": {},
          "output_type": "execute_result"
        }
      ],
      "source": [
        "int_32_tensor = torch.tensor([3, 6, 9], dtype=torch.int32)\n",
        "int_32_tensor,"
      ]
    },
    {
      "cell_type": "code",
      "execution_count": 35,
      "metadata": {
        "colab": {
          "base_uri": "https://localhost:8080/"
        },
        "id": "BTrP9kx1gDU0",
        "outputId": "af2a2a1d-371e-44f1-e19f-99d0dc5db814"
      },
      "outputs": [
        {
          "data": {
            "text/plain": [
              "(tensor([ 9., 36., 81.], dtype=torch.float16),)"
            ]
          },
          "execution_count": 35,
          "metadata": {},
          "output_type": "execute_result"
        }
      ],
      "source": [
        "int_32_tensor * float_16_tensor,"
      ]
    },
    {
      "cell_type": "markdown",
      "metadata": {
        "id": "lhEAYsqSfNIX"
      },
      "source": [
        "### Getting information from tensors (tensor attributes)\n",
        "\n",
        "1. Tensors not right datatype - to do get datatype from a tensor, one can use `tensor.dtype`\n",
        "2. Tensors not right shape - to get shape from a tensor, one can use `tensor.shape`\n",
        "3. Tensors not on the right device - to get device from a tensor, one can use `tensor.device`"
      ]
    },
    {
      "cell_type": "code",
      "execution_count": 36,
      "metadata": {
        "colab": {
          "base_uri": "https://localhost:8080/"
        },
        "id": "KQxlp36hd1qq",
        "outputId": "fcad5665-b44b-49d5-f940-4ede7295c608"
      },
      "outputs": [
        {
          "data": {
            "text/plain": [
              "tensor([[0.7061, 0.3869, 0.2355, 0.7859],\n",
              "        [0.9716, 0.9300, 0.0600, 0.2856],\n",
              "        [0.2289, 0.9352, 0.0450, 0.4282]])"
            ]
          },
          "execution_count": 36,
          "metadata": {},
          "output_type": "execute_result"
        }
      ],
      "source": [
        "# Create a tensor\n",
        "some_tensor = torch.rand(3, 4)\n",
        "some_tensor"
      ]
    },
    {
      "cell_type": "code",
      "execution_count": 37,
      "metadata": {
        "colab": {
          "base_uri": "https://localhost:8080/"
        },
        "id": "KCzph_5RhCc4",
        "outputId": "57126914-feba-4847-af24-56b9ad9613fb"
      },
      "outputs": [
        {
          "name": "stdout",
          "output_type": "stream",
          "text": [
            "tensor([[0.7061, 0.3869, 0.2355, 0.7859],\n",
            "        [0.9716, 0.9300, 0.0600, 0.2856],\n",
            "        [0.2289, 0.9352, 0.0450, 0.4282]])\n",
            "Datatype of tensor: torch.float32\n",
            "Shape of tensor: torch.Size([3, 4])\n",
            "Device of tensor: cpu\n",
            "\n"
          ]
        }
      ],
      "source": [
        "print(some_tensor)\n",
        "print(f\"Datatype of tensor: {some_tensor.dtype}\\n\"\n",
        "      f\"Shape of tensor: {some_tensor.shape}\\n\"\n",
        "      f\"Device of tensor: {some_tensor.device}\\n\")\n"
      ]
    },
    {
      "cell_type": "markdown",
      "metadata": {
        "id": "lDiB8xwNhxwA"
      },
      "source": [
        "### Manipulating Tensors (tensor operations)\n",
        "\n",
        "Tensor operations include:\n",
        "* Addition\n",
        "* Substraction\n",
        "* Multiplication (element-wise)\n",
        "* Division\n",
        "* Matrix multiplication\n",
        "\n"
      ]
    },
    {
      "cell_type": "code",
      "execution_count": 38,
      "metadata": {
        "colab": {
          "base_uri": "https://localhost:8080/"
        },
        "id": "OKGotMSSiKQa",
        "outputId": "c8a5ee99-c395-497d-a03e-4505f37d23e3"
      },
      "outputs": [
        {
          "data": {
            "text/plain": [
              "(tensor([11, 12, 13]), tensor([-9, -8, -7]))"
            ]
          },
          "execution_count": 38,
          "metadata": {},
          "output_type": "execute_result"
        }
      ],
      "source": [
        "# Create a tensor\n",
        "tensor = torch.tensor([1, 2, 3])\n",
        "tensor + 10, tensor - 10"
      ]
    },
    {
      "cell_type": "code",
      "execution_count": 39,
      "metadata": {
        "colab": {
          "base_uri": "https://localhost:8080/"
        },
        "id": "MKim41dBhpta",
        "outputId": "916453a4-5920-4f0d-d41a-bd67f0739279"
      },
      "outputs": [
        {
          "data": {
            "text/plain": [
              "(tensor([10, 20, 30]), tensor([0.1000, 0.2000, 0.3000]))"
            ]
          },
          "execution_count": 39,
          "metadata": {},
          "output_type": "execute_result"
        }
      ],
      "source": [
        "tensor * 10, tensor / 10"
      ]
    },
    {
      "cell_type": "code",
      "execution_count": 40,
      "metadata": {
        "colab": {
          "base_uri": "https://localhost:8080/"
        },
        "id": "DyrvwhBNiSIp",
        "outputId": "a09e1a7e-d6e1-45a0-8541-bf7e281f54b2"
      },
      "outputs": [
        {
          "data": {
            "text/plain": [
              "(tensor([10, 20, 30]), tensor([101, 102, 103]))"
            ]
          },
          "execution_count": 40,
          "metadata": {},
          "output_type": "execute_result"
        }
      ],
      "source": [
        "# Tryout PyTorch in-built functions\n",
        "torch.mul(tensor, 10), torch.add(tensor, 100)"
      ]
    },
    {
      "cell_type": "markdown",
      "metadata": {
        "id": "PLLFL_Eni6xH"
      },
      "source": [
        "### Matrix Multiplication\n",
        "\n",
        "Two main ways of performing multiplication in neural networks and deep learning\n",
        "\n",
        "1. Element-wise\n",
        "2. Dot Product\n",
        "\n",
        "More information on [Mathisfun](https://www.mathsisfun.com/algebra/matrix-multiplying.html)\n",
        "\n",
        "There are two main rules that performing matrix multiplication needs to satisfy:\n",
        "1. The **inner dimension** must match:\n",
        "* `(3, 2) @ (3, 2)` won't work\n",
        "* `(2, 3) @ (3, 2)` will work\n",
        "* `(3, 2) @ (2, 3)` will work\n",
        "2. The resulting matrix has the shape of the outer **dimensions**:\n",
        "* `(2, 3) @ (3, 2)` -> `(2, 2)`\n",
        "* `(3, 2) @ (2, 3)` -> `(3, 3)`"
      ]
    },
    {
      "cell_type": "code",
      "execution_count": 41,
      "metadata": {
        "colab": {
          "base_uri": "https://localhost:8080/"
        },
        "id": "LXUmv-YriYza",
        "outputId": "ca7bbe01-ae67-4266-cfa0-04302014ae3e"
      },
      "outputs": [
        {
          "name": "stdout",
          "output_type": "stream",
          "text": [
            "tensor([1, 2, 3]) * tensor([1, 2, 3])\n",
            "Equals: tensor([1, 4, 9])\n"
          ]
        }
      ],
      "source": [
        "# Element-wise\n",
        "print(tensor, \"*\", tensor)\n",
        "print(f\"Equals: {tensor * tensor}\")"
      ]
    },
    {
      "cell_type": "code",
      "execution_count": 42,
      "metadata": {},
      "outputs": [],
      "source": [
        "import time"
      ]
    },
    {
      "cell_type": "code",
      "execution_count": 43,
      "metadata": {
        "colab": {
          "base_uri": "https://localhost:8080/"
        },
        "id": "AvMRFHDbirw_",
        "outputId": "197eef78-6e48-42ae-e148-8663ba60b39b"
      },
      "outputs": [
        {
          "name": "stdout",
          "output_type": "stream",
          "text": [
            "tensor(14)\n",
            "Time taken: 0.0006527900695800781\n"
          ]
        }
      ],
      "source": [
        "# Dot product\n",
        "start_time = time.time()\n",
        "print(torch.matmul(tensor, tensor))\n",
        "end_time = time.time()\n",
        "print(f\"Time taken: {end_time - start_time}\")"
      ]
    },
    {
      "cell_type": "code",
      "execution_count": 44,
      "metadata": {
        "colab": {
          "base_uri": "https://localhost:8080/"
        },
        "id": "Dtno1prhjl4R",
        "outputId": "ee80d7a9-ffdf-40c7-ede4-49d503493f5a"
      },
      "outputs": [
        {
          "name": "stdout",
          "output_type": "stream",
          "text": [
            "tensor(14)\n",
            "Time taken: 0.0009949207305908203\n"
          ]
        }
      ],
      "source": [
        "# Matrix multiplication by hand\n",
        "start_time = time.time()\n",
        "value = 0\n",
        "for i in range(len(tensor)):\n",
        "  value+=tensor[i] * tensor[i]\n",
        "print(value)\n",
        "end_time = time.time()\n",
        "print(f\"Time taken: {end_time - start_time}\")"
      ]
    },
    {
      "cell_type": "markdown",
      "metadata": {
        "id": "ToF6ylzHklt8"
      },
      "source": [
        "#### One of the most common errors in deep learning: shape errors"
      ]
    },
    {
      "cell_type": "code",
      "execution_count": 45,
      "metadata": {
        "id": "YZU5-mFjkJkz"
      },
      "outputs": [],
      "source": [
        "# Shapes for matrix multiplication\n",
        "tensor_A = torch.tensor([[1,2],\n",
        "                         [3,4],\n",
        "                         [5,6]])\n",
        "tensor_B = torch.tensor([[7, 10],\n",
        "                         [8, 11],\n",
        "                         [9, 12]])\n",
        "# torch.mm(tensor_A, tensor_B)  # mm: matmul - does not work"
      ]
    },
    {
      "cell_type": "markdown",
      "metadata": {
        "id": "5_QLjSMfxOfN"
      },
      "source": [
        "To fix the tensor shape issues, we can manipulate the shape of one of our tensors using **transpose**.\n",
        "A **transpose** switches the axes or dimensions of a given tensor."
      ]
    },
    {
      "cell_type": "code",
      "execution_count": 46,
      "metadata": {
        "colab": {
          "base_uri": "https://localhost:8080/"
        },
        "id": "OuUN-W9OwLbh",
        "outputId": "d18e7642-1238-4333-b910-9b73bd1559a5"
      },
      "outputs": [
        {
          "data": {
            "text/plain": [
              "(tensor([[ 7,  8,  9],\n",
              "         [10, 11, 12]]),\n",
              " tensor([[ 7, 10],\n",
              "         [ 8, 11],\n",
              "         [ 9, 12]]),\n",
              " torch.Size([2, 3]),\n",
              " torch.Size([3, 2]))"
            ]
          },
          "execution_count": 46,
          "metadata": {},
          "output_type": "execute_result"
        }
      ],
      "source": [
        "tensor_B.T, tensor_B, tensor_B.T.shape, tensor_B.shape"
      ]
    },
    {
      "cell_type": "code",
      "execution_count": 47,
      "metadata": {
        "colab": {
          "base_uri": "https://localhost:8080/"
        },
        "id": "oyQExotpxNS2",
        "outputId": "723cb46e-9269-4e8c-b42a-bf4b7fff1c4e"
      },
      "outputs": [
        {
          "name": "stdout",
          "output_type": "stream",
          "text": [
            "Original shapes: tensor_A = torch.Size([3, 2]), tensor_B = torch.Size([3, 2])\n",
            "New shapes: tensor_A = tensor([[1, 3, 5],\n",
            "        [2, 4, 6]]), tensor_B = torch.Size([2, 3])\n",
            "Multiplying: torch.Size([3, 2]) @ torch.Size([2, 3]) <-- inner dims must match\n",
            "Output:\n",
            "\n",
            "tensor([[ 27,  30,  33],\n",
            "        [ 61,  68,  75],\n",
            "        [ 95, 106, 117]])\n",
            "\n",
            "Output shape: torch.Size([3, 3])\n"
          ]
        },
        {
          "data": {
            "text/plain": [
              "torch.Size([3, 3])"
            ]
          },
          "execution_count": 47,
          "metadata": {},
          "output_type": "execute_result"
        }
      ],
      "source": [
        "# The matrix multiplication operation works, when tensor_B is transposed\n",
        "print(f\"Original shapes: tensor_A = {tensor_A.shape}, tensor_B = {tensor_B.shape}\")\n",
        "print(f\"New shapes: tensor_A = {tensor_A.T}, tensor_B = {tensor_B.T.shape}\")\n",
        "print(f\"Multiplying: {tensor_A.shape} @ {tensor_B.T.shape} <-- inner dims must match\")\n",
        "print(\"Output:\\n\")\n",
        "output = torch.matmul(tensor_A, tensor_B.T)\n",
        "print(output)\n",
        "print(f\"\\nOutput shape: {output.shape}\")\n",
        "\n",
        "torch.matmul(tensor_A, tensor_B.T).shape"
      ]
    },
    {
      "cell_type": "markdown",
      "metadata": {
        "id": "OjEDrE83za0t"
      },
      "source": [
        "### Finding the min, max, mean, sum ... (tensor aggregation)"
      ]
    },
    {
      "cell_type": "code",
      "execution_count": 48,
      "metadata": {
        "colab": {
          "base_uri": "https://localhost:8080/"
        },
        "id": "BcWJI7ysx61Y",
        "outputId": "a438a690-02e7-42b6-e1a4-d39e9020883d"
      },
      "outputs": [
        {
          "data": {
            "text/plain": [
              "(tensor([ 0, 10, 20, 30, 40, 50, 60, 70, 80, 90]), torch.int64)"
            ]
          },
          "execution_count": 48,
          "metadata": {},
          "output_type": "execute_result"
        }
      ],
      "source": [
        "# Create a tensor\n",
        "x = torch.arange(0, 100, 10)\n",
        "x, x.dtype"
      ]
    },
    {
      "cell_type": "code",
      "execution_count": 49,
      "metadata": {
        "colab": {
          "base_uri": "https://localhost:8080/"
        },
        "id": "4mI1cwOhzpZn",
        "outputId": "6ee8a22b-985c-418a-b82d-0b3e22261e0d"
      },
      "outputs": [
        {
          "data": {
            "text/plain": [
              "(<function Tensor.min>, tensor(0))"
            ]
          },
          "execution_count": 49,
          "metadata": {},
          "output_type": "execute_result"
        }
      ],
      "source": [
        "# Find the min\n",
        "x.min, torch.min(x)"
      ]
    },
    {
      "cell_type": "code",
      "execution_count": 50,
      "metadata": {
        "colab": {
          "base_uri": "https://localhost:8080/"
        },
        "id": "BnaOlWzazvO-",
        "outputId": "21d8a7db-ceda-447a-8164-9bbb1de43d31"
      },
      "outputs": [
        {
          "data": {
            "text/plain": [
              "(<function Tensor.max>, tensor(90))"
            ]
          },
          "execution_count": 50,
          "metadata": {},
          "output_type": "execute_result"
        }
      ],
      "source": [
        "# Find max\n",
        "x.max, torch.max(x)"
      ]
    },
    {
      "cell_type": "code",
      "execution_count": 51,
      "metadata": {
        "colab": {
          "base_uri": "https://localhost:8080/"
        },
        "id": "nEyQ6yuOzy09",
        "outputId": "876ffda4-2060-4075-f730-8f4128e8ce19"
      },
      "outputs": [
        {
          "data": {
            "text/plain": [
              "(tensor(45.), <function Tensor.mean>)"
            ]
          },
          "execution_count": 51,
          "metadata": {},
          "output_type": "execute_result"
        }
      ],
      "source": [
        "# Find mean - note: the torch.mean() function requires a tensor of float32 datatype to work\n",
        "torch.mean(x.type(torch.float32)), x.type(torch.float32).mean"
      ]
    },
    {
      "cell_type": "code",
      "execution_count": 52,
      "metadata": {
        "colab": {
          "base_uri": "https://localhost:8080/"
        },
        "id": "QNywiEP2z3D3",
        "outputId": "fbcd1e4f-1693-4b59-ddf6-7b5a0b2541e5"
      },
      "outputs": [
        {
          "data": {
            "text/plain": [
              "tensor(450)"
            ]
          },
          "execution_count": 52,
          "metadata": {},
          "output_type": "execute_result"
        }
      ],
      "source": [
        "# Sum\n",
        "torch.sum(x)"
      ]
    },
    {
      "cell_type": "markdown",
      "metadata": {
        "id": "BbsPolRU018I"
      },
      "source": [
        "### Finding the positional min and max"
      ]
    },
    {
      "cell_type": "code",
      "execution_count": 53,
      "metadata": {
        "colab": {
          "base_uri": "https://localhost:8080/"
        },
        "id": "qY4g8Nk80uo5",
        "outputId": "0b7af7d9-7945-4f82-cdf6-81fc5c65efe3"
      },
      "outputs": [
        {
          "data": {
            "text/plain": [
              "(tensor(9), tensor(0))"
            ]
          },
          "execution_count": 53,
          "metadata": {},
          "output_type": "execute_result"
        }
      ],
      "source": [
        "# Argmax, argmin\n",
        "torch.argmax(x), torch.argmin(x)"
      ]
    },
    {
      "cell_type": "code",
      "execution_count": 54,
      "metadata": {
        "colab": {
          "base_uri": "https://localhost:8080/"
        },
        "id": "vL3Sgn1f1HXW",
        "outputId": "9a877e60-33b0-4ebf-efc3-55077a66b0b5"
      },
      "outputs": [
        {
          "data": {
            "text/plain": [
              "tensor(90)"
            ]
          },
          "execution_count": 54,
          "metadata": {},
          "output_type": "execute_result"
        }
      ],
      "source": [
        "x[torch.argmax(x)]"
      ]
    },
    {
      "cell_type": "markdown",
      "metadata": {
        "id": "y8ReJFp11fln"
      },
      "source": [
        "### Reshaping, stacking, squeezing and unsqueezing tensors"
      ]
    },
    {
      "cell_type": "markdown",
      "metadata": {
        "id": "wW0SUnF718Xg"
      },
      "source": [
        "* Reshaping - reshapes an input tensor to a defined shape\n",
        "* View - return a view of an input tensor of certain shape but keep the same memory as the original tensor\n",
        "* Stacking - combine multiple tensors on top of eachother (vstack) or side by side (hstack)\n",
        "* Squeeze - remove all `1` dimensions from a tensore\n",
        "* Unsqueeze - add a `1` dimension to a target tensor\n",
        "* Permute - return a view of the input with dimensions permuted (swapped) in a certain way"
      ]
    },
    {
      "cell_type": "code",
      "execution_count": 55,
      "metadata": {
        "colab": {
          "base_uri": "https://localhost:8080/"
        },
        "id": "ztAKzzeP1T1C",
        "outputId": "a575919c-7828-45de-bc52-e1b0dd4b2278"
      },
      "outputs": [
        {
          "data": {
            "text/plain": [
              "(tensor([ 1.,  2.,  3.,  4.,  5.,  6.,  7.,  8.,  9., 10., 11., 12.]),\n",
              " torch.Size([12]))"
            ]
          },
          "execution_count": 55,
          "metadata": {},
          "output_type": "execute_result"
        }
      ],
      "source": [
        "# Create a tensor\n",
        "x = torch.arange(1., 13.)\n",
        "x, x.shape"
      ]
    },
    {
      "cell_type": "code",
      "execution_count": 56,
      "metadata": {
        "colab": {
          "base_uri": "https://localhost:8080/"
        },
        "id": "QCVMEImY3Amy",
        "outputId": "ce4f50bf-398c-400d-83bc-4162105c1f26"
      },
      "outputs": [
        {
          "data": {
            "text/plain": [
              "(tensor([[ 1.],\n",
              "         [ 2.],\n",
              "         [ 3.],\n",
              "         [ 4.],\n",
              "         [ 5.],\n",
              "         [ 6.],\n",
              "         [ 7.],\n",
              "         [ 8.],\n",
              "         [ 9.],\n",
              "         [10.],\n",
              "         [11.],\n",
              "         [12.]]),\n",
              " torch.Size([12, 1]))"
            ]
          },
          "execution_count": 56,
          "metadata": {},
          "output_type": "execute_result"
        }
      ],
      "source": [
        "# Add an extra dimension\n",
        "x_reshaped = x.reshape(12, 1)\n",
        "x_reshaped, x_reshaped.shape"
      ]
    },
    {
      "cell_type": "code",
      "execution_count": 57,
      "metadata": {
        "colab": {
          "base_uri": "https://localhost:8080/"
        },
        "id": "15LX8LyQ3mwi",
        "outputId": "c0970623-ce69-4bdf-b61b-c716da95f2d6"
      },
      "outputs": [
        {
          "data": {
            "text/plain": [
              "tensor([[ 1.,  2.,  3.,  4.],\n",
              "        [ 5.,  6.,  7.,  8.],\n",
              "        [ 9., 10., 11., 12.]])"
            ]
          },
          "execution_count": 57,
          "metadata": {},
          "output_type": "execute_result"
        }
      ],
      "source": [
        "x_reshaped = x.reshape(3, 4)\n",
        "x_reshaped"
      ]
    },
    {
      "cell_type": "code",
      "execution_count": 58,
      "metadata": {
        "colab": {
          "base_uri": "https://localhost:8080/"
        },
        "id": "6NLEGGQb3S3s",
        "outputId": "f81682ca-8caa-4a17-ee94-015fff84b975"
      },
      "outputs": [
        {
          "data": {
            "text/plain": [
              "(tensor([[ 1.,  2.,  3.],\n",
              "         [ 4.,  5.,  6.],\n",
              "         [ 7.,  8.,  9.],\n",
              "         [10., 11., 12.]]),\n",
              " torch.Size([4, 3]))"
            ]
          },
          "execution_count": 58,
          "metadata": {},
          "output_type": "execute_result"
        }
      ],
      "source": [
        "# Change the view\n",
        "z = x.view(4, 3)\n",
        "z, z.shape"
      ]
    },
    {
      "cell_type": "code",
      "execution_count": 59,
      "metadata": {
        "colab": {
          "base_uri": "https://localhost:8080/"
        },
        "id": "YIcnh7F63e5y",
        "outputId": "1722f75e-399b-4361-832b-a0c9a85c0dfd"
      },
      "outputs": [
        {
          "data": {
            "text/plain": [
              "(tensor([[ 5.,  2.,  3.],\n",
              "         [ 5.,  5.,  6.],\n",
              "         [ 5.,  8.,  9.],\n",
              "         [ 5., 11., 12.]]),\n",
              " tensor([ 5.,  2.,  3.,  5.,  5.,  6.,  5.,  8.,  9.,  5., 11., 12.]))"
            ]
          },
          "execution_count": 59,
          "metadata": {},
          "output_type": "execute_result"
        }
      ],
      "source": [
        "# Changing z changes x (because a view of an tensor shares tho same mem as the original input)\n",
        "z[:, 0] = 5\n",
        "z, x"
      ]
    },
    {
      "cell_type": "code",
      "execution_count": 60,
      "metadata": {
        "colab": {
          "base_uri": "https://localhost:8080/"
        },
        "id": "OuYMh4Za3e3o",
        "outputId": "475dadc9-87fc-44c3-c19e-49e46ed4eaae"
      },
      "outputs": [
        {
          "data": {
            "text/plain": [
              "(tensor([[ 5.,  2.,  3.,  5.,  5.,  6.,  5.,  8.,  9.,  5., 11., 12.],\n",
              "         [ 5.,  2.,  3.,  5.,  5.,  6.,  5.,  8.,  9.,  5., 11., 12.],\n",
              "         [ 5.,  2.,  3.,  5.,  5.,  6.,  5.,  8.,  9.,  5., 11., 12.],\n",
              "         [ 5.,  2.,  3.,  5.,  5.,  6.,  5.,  8.,  9.,  5., 11., 12.]]),\n",
              " torch.Size([4, 12]))"
            ]
          },
          "execution_count": 60,
          "metadata": {},
          "output_type": "execute_result"
        }
      ],
      "source": [
        "# Stack tensors on top of eachother\n",
        "x_stacked = torch.stack([x, x, x, x], dim=0)\n",
        "x_stacked, x_stacked.shape"
      ]
    },
    {
      "cell_type": "code",
      "execution_count": 61,
      "metadata": {
        "colab": {
          "base_uri": "https://localhost:8080/"
        },
        "id": "SaIrXbeg3e0r",
        "outputId": "22d916c9-44da-4e5c-fc71-a753ed2fffa7"
      },
      "outputs": [
        {
          "data": {
            "text/plain": [
              "(tensor([[ 5.,  5.,  5.,  5.],\n",
              "         [ 2.,  2.,  2.,  2.],\n",
              "         [ 3.,  3.,  3.,  3.],\n",
              "         [ 5.,  5.,  5.,  5.],\n",
              "         [ 5.,  5.,  5.,  5.],\n",
              "         [ 6.,  6.,  6.,  6.],\n",
              "         [ 5.,  5.,  5.,  5.],\n",
              "         [ 8.,  8.,  8.,  8.],\n",
              "         [ 9.,  9.,  9.,  9.],\n",
              "         [ 5.,  5.,  5.,  5.],\n",
              "         [11., 11., 11., 11.],\n",
              "         [12., 12., 12., 12.]]),\n",
              " torch.Size([12, 4]))"
            ]
          },
          "execution_count": 61,
          "metadata": {},
          "output_type": "execute_result"
        }
      ],
      "source": [
        "x_stacked = torch.stack([x, x, x, x], dim=1)\n",
        "x_stacked, x_stacked.shape"
      ]
    },
    {
      "cell_type": "code",
      "execution_count": 62,
      "metadata": {
        "colab": {
          "base_uri": "https://localhost:8080/"
        },
        "id": "v8TqD7z03evp",
        "outputId": "b8c6c2fd-d3fc-43cc-afa2-a2db1ed2a0f8"
      },
      "outputs": [
        {
          "name": "stdout",
          "output_type": "stream",
          "text": [
            "Previous tensor: tensor([[ 5.,  2.,  3.,  5.,  5.,  6.,  5.,  8.,  9.,  5., 11., 12.]])\n",
            "Previous time: torch.Size([1, 12])\n",
            "\n",
            "New tensor: tensor([ 5.,  2.,  3.,  5.,  5.,  6.,  5.,  8.,  9.,  5., 11., 12.])\n",
            "New shape: tensor([ 5.,  2.,  3.,  5.,  5.,  6.,  5.,  8.,  9.,  5., 11., 12.])\n"
          ]
        }
      ],
      "source": [
        "# torch.squeeze() - removes all single dimensions from a target tensor\n",
        "y = x_reshaped.reshape(1,12)\n",
        "print(f\"Previous tensor: {y}\")\n",
        "print(f\"Previous time: {y.shape}\")\n",
        "\n",
        "# Remove extra dimensions from y\n",
        "y_squeezed = y.squeeze()\n",
        "print(f\"\\nNew tensor: {y_squeezed}\")\n",
        "print(f\"New shape: {y_squeezed}\")"
      ]
    },
    {
      "cell_type": "code",
      "execution_count": 63,
      "metadata": {
        "colab": {
          "base_uri": "https://localhost:8080/"
        },
        "id": "mDunW5PT5sOl",
        "outputId": "a83f0c22-5341-4513-bcb9-0d589aec8197"
      },
      "outputs": [
        {
          "name": "stdout",
          "output_type": "stream",
          "text": [
            "Previous tensor: tensor([ 5.,  2.,  3.,  5.,  5.,  6.,  5.,  8.,  9.,  5., 11., 12.])\n",
            "Previous shape: torch.Size([12])\n",
            "\n",
            "New tensor: tensor([[ 5.,  2.,  3.,  5.,  5.,  6.,  5.,  8.,  9.,  5., 11., 12.]])\n",
            "New shape: torch.Size([1, 12])\n"
          ]
        }
      ],
      "source": [
        "# torch.unsqueeze() - adds a single dimension to a target tensor at specific dimension\n",
        "print(f\"Previous tensor: {y_squeezed}\")\n",
        "print(f\"Previous shape: {y_squeezed.shape}\")\n",
        "\n",
        "# Add an extra dimension with unsqueeze()\n",
        "w = y_squeezed.unsqueeze(dim=0)\n",
        "print(f\"\\nNew tensor: {w}\")\n",
        "print(f\"New shape: {w.shape}\")"
      ]
    },
    {
      "cell_type": "code",
      "execution_count": 64,
      "metadata": {
        "colab": {
          "base_uri": "https://localhost:8080/"
        },
        "id": "N92KTt7Q68dc",
        "outputId": "725b92c0-9fce-41aa-9b77-f390b711b2a9"
      },
      "outputs": [
        {
          "name": "stdout",
          "output_type": "stream",
          "text": [
            "\n",
            "New tensor: tensor([[ 5.],\n",
            "        [ 2.],\n",
            "        [ 3.],\n",
            "        [ 5.],\n",
            "        [ 5.],\n",
            "        [ 6.],\n",
            "        [ 5.],\n",
            "        [ 8.],\n",
            "        [ 9.],\n",
            "        [ 5.],\n",
            "        [11.],\n",
            "        [12.]])\n",
            "New shape: torch.Size([12, 1])\n"
          ]
        }
      ],
      "source": [
        "# Add an extra dimension with unsqueeze()\n",
        "w = y_squeezed.unsqueeze(dim=1)\n",
        "print(f\"\\nNew tensor: {w}\")\n",
        "print(f\"New shape: {w.shape}\")"
      ]
    },
    {
      "cell_type": "code",
      "execution_count": 65,
      "metadata": {
        "colab": {
          "base_uri": "https://localhost:8080/"
        },
        "id": "6UVgCMDC7g8p",
        "outputId": "b10dfcf9-afc8-48db-81f4-b9fc82a5f24a"
      },
      "outputs": [
        {
          "name": "stdout",
          "output_type": "stream",
          "text": [
            "Previous shape: torch.Size([224, 200, 3])\n",
            "New shape: torch.Size([3, 224, 200])\n"
          ]
        }
      ],
      "source": [
        "# torch.permute - rearranges the dimensions of a target tensor in a specified order\n",
        "x_original = torch.rand(size=(224,200,3)) # height, width, colour_channels\n",
        "\n",
        "# Permute the original tensor to rearrange the axis (or dim) order\n",
        "x_permuted = x_original.permute(2, 0, 1) # shifts axis 0 to 1, 1 to 2, 2 to 0\n",
        "\n",
        "print(f\"Previous shape: {x_original.shape}\")\n",
        "print(f\"New shape: {x_permuted.shape}\")"
      ]
    },
    {
      "cell_type": "code",
      "execution_count": 66,
      "metadata": {
        "id": "6AVFG_vN8DPi"
      },
      "outputs": [],
      "source": [
        "x_original[0, 0, 0] = 142"
      ]
    },
    {
      "cell_type": "code",
      "execution_count": 67,
      "metadata": {
        "colab": {
          "base_uri": "https://localhost:8080/"
        },
        "id": "bUJ4P_338sCg",
        "outputId": "ea81284f-d8ef-453a-d404-0aa55e9e63d7"
      },
      "outputs": [
        {
          "data": {
            "text/plain": [
              "tensor(142.)"
            ]
          },
          "execution_count": 67,
          "metadata": {},
          "output_type": "execute_result"
        }
      ],
      "source": [
        "x_permuted[0, 0, 0]"
      ]
    },
    {
      "cell_type": "markdown",
      "metadata": {
        "id": "Axy_B_iN9B0T"
      },
      "source": [
        "### Indexing (selecting data from tensors with indexing)\n",
        "\n",
        "Indexing with PyTorch is similar to NumPy."
      ]
    },
    {
      "cell_type": "code",
      "execution_count": 68,
      "metadata": {
        "colab": {
          "base_uri": "https://localhost:8080/"
        },
        "id": "coM2YzLk80OG",
        "outputId": "6ec9c55c-34b4-4630-89c5-58a35bc98438"
      },
      "outputs": [
        {
          "data": {
            "text/plain": [
              "(tensor([[[1, 2, 3],\n",
              "          [4, 5, 6],\n",
              "          [7, 8, 9]]]),\n",
              " torch.Size([1, 3, 3]))"
            ]
          },
          "execution_count": 68,
          "metadata": {},
          "output_type": "execute_result"
        }
      ],
      "source": [
        "# Create a tensor\n",
        "x = torch.arange(1, 10).reshape(1, 3, 3)\n",
        "x, x.shape"
      ]
    },
    {
      "cell_type": "code",
      "execution_count": 69,
      "metadata": {
        "colab": {
          "base_uri": "https://localhost:8080/"
        },
        "id": "NJXozwOI9S2h",
        "outputId": "3e4b3e38-9010-40ee-b457-ee5761875a20"
      },
      "outputs": [
        {
          "data": {
            "text/plain": [
              "tensor([[1, 2, 3],\n",
              "        [4, 5, 6],\n",
              "        [7, 8, 9]])"
            ]
          },
          "execution_count": 69,
          "metadata": {},
          "output_type": "execute_result"
        }
      ],
      "source": [
        "# Let's index on our new tensor\n",
        "x[0]"
      ]
    },
    {
      "cell_type": "code",
      "execution_count": 70,
      "metadata": {
        "colab": {
          "base_uri": "https://localhost:8080/"
        },
        "id": "WqygyRIc9f9w",
        "outputId": "5e5175c1-242a-4692-e5fb-1d43222ef786"
      },
      "outputs": [
        {
          "data": {
            "text/plain": [
              "(tensor([1, 2, 3]), tensor([1, 2, 3]))"
            ]
          },
          "execution_count": 70,
          "metadata": {},
          "output_type": "execute_result"
        }
      ],
      "source": [
        "# Let's index on the middle bracket (dim=1)\n",
        "x[0][0], x[0, 0]"
      ]
    },
    {
      "cell_type": "code",
      "execution_count": 71,
      "metadata": {
        "colab": {
          "base_uri": "https://localhost:8080/"
        },
        "id": "15_lPApl9ijQ",
        "outputId": "20b2d0f8-4fb3-4b98-cda5-93003a680e12"
      },
      "outputs": [
        {
          "data": {
            "text/plain": [
              "tensor(5)"
            ]
          },
          "execution_count": 71,
          "metadata": {},
          "output_type": "execute_result"
        }
      ],
      "source": [
        "# Let's index on the most inner bracket (last dimension)\n",
        "x[0][1][1]"
      ]
    },
    {
      "cell_type": "code",
      "execution_count": 72,
      "metadata": {
        "colab": {
          "base_uri": "https://localhost:8080/"
        },
        "id": "cr6lMDEG93Ev",
        "outputId": "97106ce5-613c-410f-a5c7-01affc903910"
      },
      "outputs": [
        {
          "data": {
            "text/plain": [
              "tensor([[1, 2, 3]])"
            ]
          },
          "execution_count": 72,
          "metadata": {},
          "output_type": "execute_result"
        }
      ],
      "source": [
        "# You can also use \":\" to select \"all\" of a target dimension\n",
        "x[:, 0]"
      ]
    },
    {
      "cell_type": "code",
      "execution_count": 73,
      "metadata": {
        "colab": {
          "base_uri": "https://localhost:8080/"
        },
        "id": "aU5p_i8f-WPh",
        "outputId": "3c22b116-a815-470b-aad1-2faaf8b75673"
      },
      "outputs": [
        {
          "data": {
            "text/plain": [
              "tensor([[2, 5, 8]])"
            ]
          },
          "execution_count": 73,
          "metadata": {},
          "output_type": "execute_result"
        }
      ],
      "source": [
        "# Get all values of 0th and 1st dimensions but only index 1 of 2nd dimension\n",
        "x[:, :, 1]"
      ]
    },
    {
      "cell_type": "code",
      "execution_count": 74,
      "metadata": {
        "colab": {
          "base_uri": "https://localhost:8080/"
        },
        "id": "YQd3YjrH-eML",
        "outputId": "d0ff3d05-ef8f-4802-ed75-57fef6df17ed"
      },
      "outputs": [
        {
          "data": {
            "text/plain": [
              "tensor([5])"
            ]
          },
          "execution_count": 74,
          "metadata": {},
          "output_type": "execute_result"
        }
      ],
      "source": [
        "# Get all values of the 0 dimension but only the 1 index value of 1st and 2nd dimension\n",
        "x[:, 1, 1]"
      ]
    },
    {
      "cell_type": "code",
      "execution_count": 75,
      "metadata": {
        "colab": {
          "base_uri": "https://localhost:8080/"
        },
        "id": "Nzq_wOuI-t_N",
        "outputId": "b25779a1-1375-4f32-ac12-a45969217328"
      },
      "outputs": [
        {
          "data": {
            "text/plain": [
              "tensor([1, 2, 3])"
            ]
          },
          "execution_count": 75,
          "metadata": {},
          "output_type": "execute_result"
        }
      ],
      "source": [
        "# Get index 0 of 0th and 1st dimension and all values of 2nd dimension\n",
        "x[0, 0, :]"
      ]
    },
    {
      "cell_type": "code",
      "execution_count": 76,
      "metadata": {
        "colab": {
          "base_uri": "https://localhost:8080/"
        },
        "id": "o9PNCIDN-5J0",
        "outputId": "05d3b1a1-f0b1-4721-ec8c-99ed18293392"
      },
      "outputs": [
        {
          "data": {
            "text/plain": [
              "tensor(9)"
            ]
          },
          "execution_count": 76,
          "metadata": {},
          "output_type": "execute_result"
        }
      ],
      "source": [
        "# Index on x to return 9\n",
        "x[0, 2, 2]"
      ]
    },
    {
      "cell_type": "code",
      "execution_count": 77,
      "metadata": {
        "colab": {
          "base_uri": "https://localhost:8080/"
        },
        "id": "P-3vxZql_Ivi",
        "outputId": "c7f69bf5-0250-473a-c0f9-980a1af08f1d"
      },
      "outputs": [
        {
          "data": {
            "text/plain": [
              "tensor([3, 6, 9])"
            ]
          },
          "execution_count": 77,
          "metadata": {},
          "output_type": "execute_result"
        }
      ],
      "source": [
        "# Index on x to return 3, 6, 9\n",
        "x[0, :, 2]"
      ]
    },
    {
      "cell_type": "markdown",
      "metadata": {
        "id": "3tC_XsZC_n4o"
      },
      "source": [
        "### PyTorch Tensors and NumPy\n",
        "\n",
        "NumPy is a popular scientific Python numerical computing library.\n",
        "\n",
        "And because of this, PyTorch has functionality to interact with it.\n",
        "\n",
        "* Data in NumPy, want in PyTorch tensor -> `torch.from_numpy(ndarray)`\n",
        "* PyTorch tonsor to NumPy -> `torch.tensor.numpy()`\n"
      ]
    },
    {
      "cell_type": "code",
      "execution_count": 78,
      "metadata": {
        "colab": {
          "base_uri": "https://localhost:8080/"
        },
        "id": "U-7U_tRW_O5S",
        "outputId": "fef48267-7924-431f-f5bd-3c921247d351"
      },
      "outputs": [
        {
          "data": {
            "text/plain": [
              "(array([1., 2., 3., 4., 5., 6., 7.]),\n",
              " tensor([1., 2., 3., 4., 5., 6., 7.], dtype=torch.float64))"
            ]
          },
          "execution_count": 78,
          "metadata": {},
          "output_type": "execute_result"
        }
      ],
      "source": [
        "# NumPy array to tensor\n",
        "import numpy as np\n",
        "\n",
        "array = np.arange(1.,8.)\n",
        "tensor = torch.from_numpy(array) # warning: when converting from numpy -> pytorch, pytorch reflects numpy's default datatype of float64 unless specified otherwise\n",
        "array, tensor"
      ]
    },
    {
      "cell_type": "code",
      "execution_count": 79,
      "metadata": {
        "colab": {
          "base_uri": "https://localhost:8080/"
        },
        "id": "mERMmMN0AwSa",
        "outputId": "45e59b97-764f-439e-872f-c2a90d359d91"
      },
      "outputs": [
        {
          "data": {
            "text/plain": [
              "(array([2., 3., 4., 5., 6., 7., 8.]),\n",
              " tensor([1., 2., 3., 4., 5., 6., 7.], dtype=torch.float64))"
            ]
          },
          "execution_count": 79,
          "metadata": {},
          "output_type": "execute_result"
        }
      ],
      "source": [
        "# Change the value of array, what will this do to `tensor`?\n",
        "array = array + 1 # This allocates a new array and breaks the bond to the old one.\n",
        "array, tensor"
      ]
    },
    {
      "cell_type": "code",
      "execution_count": 80,
      "metadata": {
        "colab": {
          "base_uri": "https://localhost:8080/"
        },
        "id": "asvaRkJoBDH7",
        "outputId": "82e84d82-6fa5-4f75-b687-ee57318a32c0"
      },
      "outputs": [
        {
          "data": {
            "text/plain": [
              "(tensor([1., 1., 1., 1., 1., 1., 1.]),\n",
              " array([1., 1., 1., 1., 1., 1., 1.], dtype=float32))"
            ]
          },
          "execution_count": 80,
          "metadata": {},
          "output_type": "execute_result"
        }
      ],
      "source": [
        "# Tensor to NumPy array\n",
        "tensor = torch.ones(7)\n",
        "numpy_tensor = tensor.numpy()\n",
        "tensor, numpy_tensor"
      ]
    },
    {
      "cell_type": "code",
      "execution_count": 81,
      "metadata": {
        "colab": {
          "base_uri": "https://localhost:8080/"
        },
        "id": "oYdPFWYgCcGK",
        "outputId": "885afd2d-a822-41cf-8fee-e7c3e173b86d"
      },
      "outputs": [
        {
          "data": {
            "text/plain": [
              "(tensor([2., 2., 2., 2., 2., 2., 2.]),\n",
              " array([1., 1., 1., 1., 1., 1., 1.], dtype=float32))"
            ]
          },
          "execution_count": 81,
          "metadata": {},
          "output_type": "execute_result"
        }
      ],
      "source": [
        "# Change the tensor, what happens to `numpy_tensor`?\n",
        "tensor = tensor + 1\n",
        "tensor, numpy_tensor"
      ]
    },
    {
      "cell_type": "code",
      "execution_count": 82,
      "metadata": {
        "colab": {
          "base_uri": "https://localhost:8080/"
        },
        "id": "9lIBswLLChwZ",
        "outputId": "ccf0869e-b34f-4e14-e271-aa5be0fe9854"
      },
      "outputs": [
        {
          "data": {
            "text/plain": [
              "(tensor([3., 3., 3., 3., 3., 3., 3.]),\n",
              " array([1., 1., 1., 1., 1., 1., 1.], dtype=float32))"
            ]
          },
          "execution_count": 82,
          "metadata": {},
          "output_type": "execute_result"
        }
      ],
      "source": [
        "# Change the tensor, what happens to `numpy_tensor`?\n",
        "tensor += 1\n",
        "tensor, numpy_tensor"
      ]
    },
    {
      "cell_type": "markdown",
      "metadata": {
        "id": "Wcs-uH17DY0_"
      },
      "source": [
        "\n",
        "PyTorch-Tensoren und NumPy-Arrays können denselben Speicher teilen. In-place Operationen (z. B. +=) an einem wirken sich auf den anderen aus. Verwenden Sie .copy() oder .clone(), um unabhängige Kopien zu erstellen und Änderungen zu isolieren."
      ]
    },
    {
      "cell_type": "markdown",
      "metadata": {},
      "source": [
        "## Reproducability - Trying to take random out of random"
      ]
    },
    {
      "cell_type": "markdown",
      "metadata": {},
      "source": [
        "In short how our neural networks learns:\n",
        "\n",
        "`start with random numbers -> tensor operations -> update random numbers to try and make them better representations oh the data -> again -> again -> ...` \n",
        "\n",
        "To reduce the randomness in neural networks and Pytorch comes the concept of **random seed**.\n",
        "\n",
        "Essentiallz what the random seed does is \"flavour\" the randomness."
      ]
    },
    {
      "cell_type": "code",
      "execution_count": 83,
      "metadata": {
        "id": "AdDJUmjzDLyA"
      },
      "outputs": [
        {
          "name": "stdout",
          "output_type": "stream",
          "text": [
            "Tensor A: tensor([[0.6004, 0.1393, 0.5924, 0.1187],\n",
            "        [0.4578, 0.3735, 0.1008, 0.4195],\n",
            "        [0.2059, 0.3251, 0.3879, 0.3101]])\n",
            "Tensor B: tensor([[0.6574, 0.3977, 0.2522, 0.6930],\n",
            "        [0.8617, 0.6665, 0.9338, 0.6003],\n",
            "        [0.0783, 0.6272, 0.4029, 0.2278]])\n",
            "Tensor A == Tensor B: tensor([[False, False, False, False],\n",
            "        [False, False, False, False],\n",
            "        [False, False, False, False]])\n"
          ]
        }
      ],
      "source": [
        "# Create two random tensors\n",
        "random_tensor_A = torch.rand(3, 4)\n",
        "random_tensor_B = torch.rand(3, 4)\n",
        "\n",
        "print(f\"Tensor A: {random_tensor_A}\")\n",
        "print(f\"Tensor B: {random_tensor_B}\")\n",
        "print(f\"Tensor A == Tensor B: {random_tensor_A == random_tensor_B}\")"
      ]
    },
    {
      "cell_type": "code",
      "execution_count": 84,
      "metadata": {},
      "outputs": [
        {
          "data": {
            "text/plain": [
              "<torch._C.Generator at 0x2022168dab0>"
            ]
          },
          "execution_count": 84,
          "metadata": {},
          "output_type": "execute_result"
        }
      ],
      "source": [
        "# Create random but reproduceable tensors\n",
        "RANDOM_SEED = 42\n",
        "torch.manual_seed(RANDOM_SEED)"
      ]
    },
    {
      "cell_type": "code",
      "execution_count": 85,
      "metadata": {},
      "outputs": [
        {
          "name": "stdout",
          "output_type": "stream",
          "text": [
            "Tensor C: tensor([[0.6004, 0.1393, 0.5924, 0.1187],\n",
            "        [0.4578, 0.3735, 0.1008, 0.4195],\n",
            "        [0.2059, 0.3251, 0.3879, 0.3101]])\n",
            "Tensor D: tensor([[0.6574, 0.3977, 0.2522, 0.6930],\n",
            "        [0.8617, 0.6665, 0.9338, 0.6003],\n",
            "        [0.0783, 0.6272, 0.4029, 0.2278]])\n",
            "Tensor C == Tensor D: tensor([[True, True, True, True],\n",
            "        [True, True, True, True],\n",
            "        [True, True, True, True]])\n"
          ]
        }
      ],
      "source": [
        "# Create two random tensors\n",
        "torch.manual_seed(RANDOM_SEED)\n",
        "random_tensor_C = torch.rand(3, 4)\n",
        "torch.manual_seed(RANDOM_SEED)\n",
        "random_tensor_D = torch.rand(3, 4)\n",
        "\n",
        "print(f\"Tensor C: {random_tensor_A}\")\n",
        "print(f\"Tensor D: {random_tensor_B}\")\n",
        "print(f\"Tensor C == Tensor D: {random_tensor_C == random_tensor_D}\")"
      ]
    },
    {
      "cell_type": "markdown",
      "metadata": {},
      "source": [
        "Extra ressoureces:\n",
        "\n",
        "* https://pytorch.org/docs/stable/notes/randomness.html\n",
        "* https://en.wikipedia.org/wiki/Random_seed"
      ]
    },
    {
      "cell_type": "markdown",
      "metadata": {},
      "source": [
        "## Running tensors and PyTorch optects on GPUs (and making faster computations)"
      ]
    },
    {
      "cell_type": "markdown",
      "metadata": {},
      "source": [
        "GPUs = faster computation on numbers, thanks to CUDA + NVIDIA hardware + PyTorch working behind the scenes to make everything hunkz dory (good)."
      ]
    },
    {
      "cell_type": "markdown",
      "metadata": {},
      "source": [
        "### Getting GPUs\n",
        "1. Google Colab (pro)\n",
        "2. Use your own\n",
        "3. Cloud computing (aws, azure,...)"
      ]
    },
    {
      "cell_type": "code",
      "execution_count": 86,
      "metadata": {},
      "outputs": [
        {
          "data": {
            "text/plain": [
              "False"
            ]
          },
          "execution_count": 86,
          "metadata": {},
          "output_type": "execute_result"
        }
      ],
      "source": [
        "# check for GPU access with PyTorch \n",
        "torch.cuda.is_available()"
      ]
    },
    {
      "cell_type": "code",
      "execution_count": 87,
      "metadata": {},
      "outputs": [
        {
          "data": {
            "text/plain": [
              "'cpu'"
            ]
          },
          "execution_count": 87,
          "metadata": {},
          "output_type": "execute_result"
        }
      ],
      "source": [
        "# Setup device agnostic code\n",
        "device = \"cuda\" if torch.cuda.is_available() else \"cpu\"\n",
        "device"
      ]
    },
    {
      "cell_type": "code",
      "execution_count": 88,
      "metadata": {},
      "outputs": [
        {
          "data": {
            "text/plain": [
              "0"
            ]
          },
          "execution_count": 88,
          "metadata": {},
          "output_type": "execute_result"
        }
      ],
      "source": [
        "# Count no of gpus\n",
        "torch.cuda.device_count()"
      ]
    },
    {
      "cell_type": "markdown",
      "metadata": {},
      "source": [
        "📓 For PyTorch since it's capable of running compute on the GPU or CPU, it's best practice to setup device agnostic code: https://pytorch.org/docs/stable/notes/cuda.html#best-practices\n",
        "\n",
        "E.g. run on GPU if available else on CPU"
      ]
    },
    {
      "cell_type": "markdown",
      "metadata": {},
      "source": [
        "## Putting tensors (and models) on the GPU"
      ]
    },
    {
      "cell_type": "markdown",
      "metadata": {},
      "source": [
        "The reason we want our tensors/models on the GPU is because using a GPU results in faster computations."
      ]
    },
    {
      "cell_type": "code",
      "execution_count": 89,
      "metadata": {},
      "outputs": [
        {
          "name": "stdout",
          "output_type": "stream",
          "text": [
            "tensor([[1., 1., 1., 1.],\n",
            "        [1., 1., 1., 1.],\n",
            "        [1., 1., 1., 1.],\n",
            "        [1., 1., 1., 1.]]) cpu\n"
          ]
        }
      ],
      "source": [
        "# Create e tensor on default (cpu)\n",
        "tensor = torch.ones(4, 4)\n",
        "\n",
        "# Print the tensor and it's device\n",
        "print(tensor, tensor.device)"
      ]
    },
    {
      "cell_type": "code",
      "execution_count": 90,
      "metadata": {},
      "outputs": [
        {
          "name": "stdout",
          "output_type": "stream",
          "text": [
            "tensor([[1., 1., 1., 1.],\n",
            "        [1., 1., 1., 1.],\n",
            "        [1., 1., 1., 1.],\n",
            "        [1., 1., 1., 1.]])\n"
          ]
        }
      ],
      "source": [
        "# Create a tensor on GPU (if available)\n",
        "tensor_cuda_GPU = torch.ones(4, 4).to(device=device)  \n",
        "\n",
        "# print the tensor and it's device\n",
        "print(tensor_cuda_GPU)"
      ]
    },
    {
      "cell_type": "markdown",
      "metadata": {},
      "source": [
        "### 4. Moving tensors back to the CPU"
      ]
    },
    {
      "cell_type": "code",
      "execution_count": 91,
      "metadata": {},
      "outputs": [],
      "source": [
        "# If tensor is on GPU, one cannot transform it to numpy\n",
        "try:\n",
        "  tensor_cuda_GPU.numpy()   \n",
        "except Exception as e:\n",
        "    print(e)\n",
        "    "
      ]
    },
    {
      "cell_type": "code",
      "execution_count": 92,
      "metadata": {},
      "outputs": [
        {
          "name": "stdout",
          "output_type": "stream",
          "text": [
            "tensor([[1., 1., 1., 1.],\n",
            "        [1., 1., 1., 1.],\n",
            "        [1., 1., 1., 1.],\n",
            "        [1., 1., 1., 1.]]) cpu\n"
          ]
        }
      ],
      "source": [
        "# To fix the error, move tensor to CPU\n",
        "tensor_cuda_CPU = tensor_cuda_GPU.to(device=\"cpu\")\n",
        "\n",
        "# print the tensor and it's device \n",
        "print(tensor_cuda_CPU, tensor_cuda_CPU.device)"
      ]
    },
    {
      "cell_type": "markdown",
      "metadata": {},
      "source": [
        "# Exercises & Curriculum"
      ]
    },
    {
      "cell_type": "markdown",
      "metadata": {},
      "source": [
        "See exercise for this notebook here: https://www.learnpytorch.io/00_pytorch_fundamentals/#exercises"
      ]
    },
    {
      "cell_type": "code",
      "execution_count": null,
      "metadata": {},
      "outputs": [],
      "source": []
    }
  ],
  "metadata": {
    "colab": {
      "gpuType": "T4",
      "provenance": []
    },
    "kernelspec": {
      "display_name": ".venv",
      "language": "python",
      "name": "python3"
    },
    "language_info": {
      "codemirror_mode": {
        "name": "ipython",
        "version": 3
      },
      "file_extension": ".py",
      "mimetype": "text/x-python",
      "name": "python",
      "nbconvert_exporter": "python",
      "pygments_lexer": "ipython3",
      "version": "3.13.2"
    }
  },
  "nbformat": 4,
  "nbformat_minor": 0
}
