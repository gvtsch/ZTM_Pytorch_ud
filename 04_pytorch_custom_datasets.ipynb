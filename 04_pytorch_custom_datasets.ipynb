{
 "cells": [
  {
   "cell_type": "markdown",
   "metadata": {},
   "source": [
    "# 04. PyTorch Custom Datasets \n",
    "\n",
    "We used some datasets with PyTorch before.\n",
    "\n",
    "How to use own data?\n",
    "\n",
    "One of the ways to do so is using custom datasets.\n",
    "\n",
    "**Resources**: \n",
    "- Book version on learnpytorch.io\n",
    "- Notebook on Daniel's Github\n",
    "\n",
    "## Domain libraries\n",
    "\n",
    "Depending on what is working on, vision, text, audio, recommendations.... -> PyTorch domain libs\n"
   ]
  },
  {
   "cell_type": "markdown",
   "metadata": {},
   "source": [
    "## Importing PyTorch and setting up device-agnostic code"
   ]
  },
  {
   "cell_type": "code",
   "execution_count": 1,
   "metadata": {},
   "outputs": [
    {
     "name": "stdout",
     "output_type": "stream",
     "text": [
      "Torch version: 2.5.1\n",
      "Torch build cuda version: 11.8\n"
     ]
    }
   ],
   "source": [
    "import torch\n",
    "from torch import nn\n",
    "\n",
    "# PyTorch 1.10+ is needed\n",
    "print(f\"Torch version: {torch.__version__}\")\n",
    "print(f\"Torch build cuda version: {torch.version.cuda}\")"
   ]
  },
  {
   "cell_type": "code",
   "execution_count": 2,
   "metadata": {},
   "outputs": [
    {
     "name": "stdout",
     "output_type": "stream",
     "text": [
      "cuda\n"
     ]
    }
   ],
   "source": [
    "# Setup device agnostic code\n",
    "device = 'cuda' if torch.cuda.is_available() else 'cpu'\n",
    "print(device)"
   ]
  },
  {
   "cell_type": "code",
   "execution_count": 3,
   "metadata": {},
   "outputs": [
    {
     "name": "stdout",
     "output_type": "stream",
     "text": [
      "nvcc: NVIDIA (R) Cuda compiler driver\n",
      "Copyright (c) 2005-2021 NVIDIA Corporation\n",
      "Built on Sun_Feb_14_22:08:44_Pacific_Standard_Time_2021\n",
      "Cuda compilation tools, release 11.2, V11.2.152\n",
      "Build cuda_11.2.r11.2/compiler.29618528_0\n"
     ]
    }
   ],
   "source": [
    "!nvcc --version"
   ]
  },
  {
   "cell_type": "code",
   "execution_count": 4,
   "metadata": {},
   "outputs": [
    {
     "name": "stdout",
     "output_type": "stream",
     "text": [
      "Fri Nov 15 19:51:09 2024       \n",
      "+-----------------------------------------------------------------------------------------+\n",
      "| NVIDIA-SMI 566.14                 Driver Version: 566.14         CUDA Version: 12.7     |\n",
      "|-----------------------------------------+------------------------+----------------------+\n",
      "| GPU  Name                  Driver-Model | Bus-Id          Disp.A | Volatile Uncorr. ECC |\n",
      "| Fan  Temp   Perf          Pwr:Usage/Cap |           Memory-Usage | GPU-Util  Compute M. |\n",
      "|                                         |                        |               MIG M. |\n",
      "|=========================================+========================+======================|\n",
      "|   0  NVIDIA GeForce RTX 3060 ...  WDDM  |   00000000:01:00.0 Off |                  N/A |\n",
      "| N/A   44C    P3             23W /   40W |       0MiB /   6144MiB |      0%      Default |\n",
      "|                                         |                        |                  N/A |\n",
      "+-----------------------------------------+------------------------+----------------------+\n",
      "                                                                                         \n",
      "+-----------------------------------------------------------------------------------------+\n",
      "| Processes:                                                                              |\n",
      "|  GPU   GI   CI        PID   Type   Process name                              GPU Memory |\n",
      "|        ID   ID                                                               Usage      |\n",
      "|=========================================================================================|\n",
      "|  No running processes found                                                             |\n",
      "+-----------------------------------------------------------------------------------------+\n"
     ]
    }
   ],
   "source": [
    "!nvidia-smi"
   ]
  },
  {
   "cell_type": "markdown",
   "metadata": {},
   "source": [
    "## 1. Get some data\n",
    "\n",
    "The dataset is a subset of the food101 dataset, which starts with 101 different classes of food. The following dataset is reduced to three classes and 1000 images.\n",
    "\n",
    "It's important to try on a small scale and then increase the scale when necessary."
   ]
  },
  {
   "cell_type": "code",
   "execution_count": 5,
   "metadata": {},
   "outputs": [],
   "source": [
    "import os\n",
    "import requests\n",
    "from zipfile import ZipFile\n",
    "\n",
    "# URL of the file to be downloaded\n",
    "url = \"https://github.com/mrdbourke/pytorch-deep-learning/blob/main/data/pizza_steak_sushi.zip?raw=true\"\n",
    "filename = \"pizza_steak_sushi.zip\"\n",
    "extract_folder = \"Food101_pizza_steak_sushi\"\n",
    "\n",
    "# Download the file if it does not exist\n",
    "if not os.path.exists(filename):\n",
    "    response = requests.get(url)\n",
    "    with open(filename, 'wb') as f:\n",
    "        f.write(response.content)\n",
    "    print(f\"{filename} downloaded.\")\n",
    "\n",
    "# Unzip the file into the specified folder if it does not exist\n",
    "if not os.path.exists(extract_folder):\n",
    "    with ZipFile(filename, 'r') as zip_ref:\n",
    "        zip_ref.extractall(extract_folder)\n",
    "    print(f\"{filename} extracted to {extract_folder}.\")"
   ]
  },
  {
   "cell_type": "markdown",
   "metadata": {},
   "source": [
    "## 2. Becoming one with the data (data preparation and data exploration)"
   ]
  },
  {
   "cell_type": "code",
   "execution_count": 6,
   "metadata": {},
   "outputs": [],
   "source": [
    "def walk_through_dir(dir_path):\n",
    "    for dirpath, dirnames, filenames in os.walk(dir_path):\n",
    "        print(f\"There are {len(dirnames)} directories and {len(filenames)} images in '{dirpath}'.\")"
   ]
  },
  {
   "cell_type": "code",
   "execution_count": 7,
   "metadata": {},
   "outputs": [
    {
     "name": "stdout",
     "output_type": "stream",
     "text": [
      "There are 2 directories and 0 images in 'Food101_pizza_steak_sushi'.\n",
      "There are 3 directories and 0 images in 'Food101_pizza_steak_sushi\\test'.\n",
      "There are 0 directories and 25 images in 'Food101_pizza_steak_sushi\\test\\pizza'.\n",
      "There are 0 directories and 19 images in 'Food101_pizza_steak_sushi\\test\\steak'.\n",
      "There are 0 directories and 31 images in 'Food101_pizza_steak_sushi\\test\\sushi'.\n",
      "There are 3 directories and 0 images in 'Food101_pizza_steak_sushi\\train'.\n",
      "There are 0 directories and 78 images in 'Food101_pizza_steak_sushi\\train\\pizza'.\n",
      "There are 0 directories and 75 images in 'Food101_pizza_steak_sushi\\train\\steak'.\n",
      "There are 0 directories and 72 images in 'Food101_pizza_steak_sushi\\train\\sushi'.\n"
     ]
    }
   ],
   "source": [
    "walk_through_dir(extract_folder)"
   ]
  },
  {
   "cell_type": "code",
   "execution_count": 8,
   "metadata": {},
   "outputs": [
    {
     "data": {
      "text/plain": [
       "('Food101_pizza_steak_sushi\\\\train', 'Food101_pizza_steak_sushi\\\\test')"
      ]
     },
     "execution_count": 8,
     "metadata": {},
     "output_type": "execute_result"
    }
   ],
   "source": [
    "# Setup train and test directories\n",
    "train_dir = os.path.join(extract_folder, \"train\")\n",
    "test_dir = os.path.join(extract_folder, \"test\")\n",
    "\n",
    "train_dir, test_dir"
   ]
  }
 ],
 "metadata": {
  "kernelspec": {
   "display_name": "torch_py_3_12_GPU",
   "language": "python",
   "name": "python3"
  },
  "language_info": {
   "codemirror_mode": {
    "name": "ipython",
    "version": 3
   },
   "file_extension": ".py",
   "mimetype": "text/x-python",
   "name": "python",
   "nbconvert_exporter": "python",
   "pygments_lexer": "ipython3",
   "version": "3.12.7"
  }
 },
 "nbformat": 4,
 "nbformat_minor": 2
}
