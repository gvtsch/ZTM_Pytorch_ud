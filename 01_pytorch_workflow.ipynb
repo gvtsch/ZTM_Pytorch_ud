{
 "cells": [
  {
   "cell_type": "markdown",
   "metadata": {},
   "source": [
    "# PyTorch Workflow"
   ]
  },
  {
   "cell_type": "markdown",
   "metadata": {},
   "source": [
    "Explore an example PyTorch end-to-end workflow.\n",
    "\n",
    "Ressources:\n",
    "* Ground truth notebook - https://github.com/mrdbourke/pytorch-deep-learning/blob/main/01_pytorch_workflow.ipynb\n",
    "* Book version: https://www.learnpytorch.io/01_pytorch_workflow/\n",
    "* Ask a question: https://github.com/mrdbourke/pytorch-deep-learning/discussions/"
   ]
  },
  {
   "cell_type": "markdown",
   "metadata": {},
   "source": [
    "![](https://raw.githubusercontent.com/mrdbourke/pytorch-deep-learning/main/images/01_a_pytorch_workflow.png)"
   ]
  },
  {
   "cell_type": "code",
   "execution_count": 1,
   "metadata": {},
   "outputs": [
    {
     "data": {
      "text/plain": [
       "{1: 'data (prepare and load)',\n",
       " 2: 'build model',\n",
       " 3: 'Fiiting the model to data (training)',\n",
       " 4: 'making predictions and evaluate a model (inference)',\n",
       " 5: 'saving and loading a model',\n",
       " 6: 'putting it all together'}"
      ]
     },
     "execution_count": 1,
     "metadata": {},
     "output_type": "execute_result"
    }
   ],
   "source": [
    "what_were_covering = {1: \"data (prepare and load)\",\n",
    "                      2: \"build model\",\n",
    "                      3: \"Fiiting the model to data (training)\",\n",
    "                      4: \"making predictions and evaluate a model (inference)\",\n",
    "                      5: \"saving and loading a model\",\n",
    "                      6: \"putting it all together\"}\n",
    "what_were_covering"
   ]
  },
  {
   "cell_type": "code",
   "execution_count": 2,
   "metadata": {},
   "outputs": [
    {
     "data": {
      "text/plain": [
       "'2.6.0+cpu'"
      ]
     },
     "execution_count": 2,
     "metadata": {},
     "output_type": "execute_result"
    }
   ],
   "source": [
    "import torch\n",
    "from torch import nn # neural network module\n",
    "import matplotlib.pyplot as plt\n",
    "import numpy as np\n",
    "from pathlib import Path\n",
    "\n",
    "# check PyTorch version\n",
    "torch.__version__"
   ]
  },
  {
   "cell_type": "code",
   "execution_count": 3,
   "metadata": {},
   "outputs": [
    {
     "name": "stdout",
     "output_type": "stream",
     "text": [
      "Mon Feb 10 16:52:08 2025       \n",
      "+-----------------------------------------------------------------------------------------+\n",
      "| NVIDIA-SMI 561.03                 Driver Version: 561.03         CUDA Version: 12.6     |\n",
      "|-----------------------------------------+------------------------+----------------------+\n",
      "| GPU  Name                  Driver-Model | Bus-Id          Disp.A | Volatile Uncorr. ECC |\n",
      "| Fan  Temp   Perf          Pwr:Usage/Cap |           Memory-Usage | GPU-Util  Compute M. |\n",
      "|                                         |                        |               MIG M. |\n",
      "|=========================================+========================+======================|\n",
      "|   0  NVIDIA GeForce RTX 3060 ...  WDDM  |   00000000:01:00.0  On |                  N/A |\n",
      "| N/A   55C    P8             16W /  115W |     860MiB /   6144MiB |     12%      Default |\n",
      "|                                         |                        |                  N/A |\n",
      "+-----------------------------------------+------------------------+----------------------+\n",
      "                                                                                         \n",
      "+-----------------------------------------------------------------------------------------+\n",
      "| Processes:                                                                              |\n",
      "|  GPU   GI   CI        PID   Type   Process name                              GPU Memory |\n",
      "|        ID   ID                                                               Usage      |\n",
      "|=========================================================================================|\n",
      "|    0   N/A  N/A      2332    C+G   ...5n1h2txyewy\\ShellExperienceHost.exe      N/A      |\n",
      "|    0   N/A  N/A      3896    C+G   ...Programs\\Microsoft VS Code\\Code.exe      N/A      |\n",
      "|    0   N/A  N/A      9064    C+G   C:\\Windows\\explorer.exe                     N/A      |\n",
      "|    0   N/A  N/A     10320    C+G   ...nt.CBS_cw5n1h2txyewy\\SearchHost.exe      N/A      |\n",
      "|    0   N/A  N/A     11108    C+G   ...2txyewy\\StartMenuExperienceHost.exe      N/A      |\n",
      "|    0   N/A  N/A     11360    C+G   ..._x64__cw5n1h2txyewy\\WidgetBoard.exe      N/A      |\n",
      "|    0   N/A  N/A     14696    C+G   C:\\Windows\\System32\\ShellHost.exe           N/A      |\n",
      "|    0   N/A  N/A     18780    C+G   ...s\\Toolbox\\bin\\jetbrains-toolbox.exe      N/A      |\n",
      "|    0   N/A  N/A     20956    C+G   ...__8wekyb3d8bbwe\\WindowsTerminal.exe      N/A      |\n",
      "+-----------------------------------------------------------------------------------------+\n"
     ]
    }
   ],
   "source": [
    "!nvidia-smi"
   ]
  },
  {
   "cell_type": "markdown",
   "metadata": {},
   "source": [
    "## 1. Data (preparing and loading)"
   ]
  },
  {
   "cell_type": "markdown",
   "metadata": {},
   "source": [
    "Data can be almost anything ... in machine learning\n",
    "\n",
    "* Excel spreadsheet\n",
    "* Images\n",
    "* Videos\n",
    "* Audio\n",
    "* DNA\n",
    "* Text\n",
    "* ... \n",
    " \n",
    " ML is a game of two parts:\n",
    " 1. Get data into numerical representation.\n",
    " 2. Build a model to learn patterns in that numerical representation."
   ]
  },
  {
   "cell_type": "markdown",
   "metadata": {},
   "source": [
    "![](https://raw.githubusercontent.com/mrdbourke/pytorch-deep-learning/main/images/01-machine-learning-a-game-of-two-parts.png)"
   ]
  },
  {
   "cell_type": "markdown",
   "metadata": {},
   "source": [
    "To showcaes this, let's create some *known* showcase data using linear regression formula.\n",
    "\n",
    "We'll use a linear regression formula to make a straight line with *known* **parameters**.\n",
    "\n",
    "\\begin{equation}\n",
    "Y_i = f(X_i, \\beta) + e_i\n",
    "\\end{equation}"
   ]
  },
  {
   "cell_type": "code",
   "execution_count": 4,
   "metadata": {},
   "outputs": [
    {
     "data": {
      "text/plain": [
       "(tensor([[0.0000],\n",
       "         [0.0200],\n",
       "         [0.0400],\n",
       "         [0.0600],\n",
       "         [0.0800],\n",
       "         [0.1000],\n",
       "         [0.1200],\n",
       "         [0.1400],\n",
       "         [0.1600],\n",
       "         [0.1800]]),\n",
       " tensor([[0.3000],\n",
       "         [0.3140],\n",
       "         [0.3280],\n",
       "         [0.3420],\n",
       "         [0.3560],\n",
       "         [0.3700],\n",
       "         [0.3840],\n",
       "         [0.3980],\n",
       "         [0.4120],\n",
       "         [0.4260]]),\n",
       " 50,\n",
       " 50)"
      ]
     },
     "execution_count": 4,
     "metadata": {},
     "output_type": "execute_result"
    }
   ],
   "source": [
    "# Create *known* parameters\n",
    "weight = 0.7\n",
    "bias = 0.3\n",
    "\n",
    "# Create \n",
    "start = 0\n",
    "end = 1\n",
    "step = 0.02\n",
    "X = torch.arange(start, end, step).unsqueeze(dim=1)\n",
    "y = weight * X + bias\n",
    "\n",
    "X[:10], y[:10], len(X), len(y)"
   ]
  },
  {
   "cell_type": "markdown",
   "metadata": {},
   "source": [
    "### Splitting data into training and test sets\n",
    "(One of the most important concepts in machine learning in general)"
   ]
  },
  {
   "cell_type": "code",
   "execution_count": 5,
   "metadata": {},
   "outputs": [],
   "source": [
    "# Create a train/test split\n",
    "train_split = int(0.8 * len(X))\n",
    "X_train, y_train = X[:train_split], y[:train_split]\n",
    "X_test, y_test = X[train_split:], y[train_split:]"
   ]
  },
  {
   "cell_type": "code",
   "execution_count": 6,
   "metadata": {},
   "outputs": [
    {
     "name": "stdout",
     "output_type": "stream",
     "text": [
      "40 40 10 10\n"
     ]
    }
   ],
   "source": [
    "print(len(X_train), len(y_train), len(X_test), len(y_test))"
   ]
  },
  {
   "cell_type": "markdown",
   "metadata": {},
   "source": [
    "How might we better visualize our data?\n",
    "\n",
    "This is where the data explorer's motto comes in!\n",
    "\n",
    "\"Visualize, visualize, ...\""
   ]
  },
  {
   "cell_type": "code",
   "execution_count": 7,
   "metadata": {},
   "outputs": [],
   "source": [
    "# Create plot of y above X\n",
    "def plot_predictions(train_data=X_train,\n",
    "                     train_labels=y_train, \n",
    "                     test_data=X_test, \n",
    "                     test_labels=y_test, \n",
    "                     predictions=None):\n",
    "    \n",
    "    \"\"\" Plots training data, test data and compares predictions. \"\"\"\n",
    "    \n",
    "    plt.figure(figsize=(10, 7))\n",
    "    plt.scatter(train_data, train_labels, c='b', label='Training data')\n",
    "    plt.scatter(test_data, test_labels, c='g', label='Testing data')\n",
    "    if predictions is not None:\n",
    "        plt.scatter(test_data, predictions, c='r', label='Predictions')\n",
    "    plt.legend()\n",
    "    plt.show()  \n"
   ]
  },
  {
   "cell_type": "code",
   "execution_count": 8,
   "metadata": {},
   "outputs": [
    {
     "data": {
      "image/png": "[encoded data removed]",
      "text/plain": [
       "<Figure size 1000x700 with 1 Axes>"
      ]
     },
     "metadata": {},
     "output_type": "display_data"
    }
   ],
   "source": [
    "# Create plot of training and test data\n",
    "plot_predictions(train_data=X_train, \n",
    "                 train_labels=y_train, \n",
    "                 test_data=X_test, \n",
    "                 test_labels=y_test)"
   ]
  },
  {
   "cell_type": "markdown",
   "metadata": {},
   "source": [
    "## 2. Build model"
   ]
  },
  {
   "cell_type": "markdown",
   "metadata": {},
   "source": [
    "Our first Pytorch model!\n",
    "\n",
    "Because we are going to be building classes throughout the course, I'd recommend getting familiar with OOP in Python, to do so you can use the following resource from Real Python...\n",
    "\n",
    "What the model does:\n",
    "* Start with random values (weight & bias)\n",
    "* Look at training data and adjust the random values to better represint (or get closer to) the ideal values (the weight & bias values we used to create the data)\n",
    "\n",
    "How does it do so?\n",
    "\n",
    "Through two main algorithms:\n",
    "1. Gradient descent\n",
    "2. Backpropagation"
   ]
  },
  {
   "cell_type": "code",
   "execution_count": 9,
   "metadata": {},
   "outputs": [],
   "source": [
    "# Create a linear regression model class\n",
    "class LinearRegressionModel(nn.Module):\n",
    "    \"\"\"\n",
    "    This class represents a linear regression model in PyTorch. It inherits from the `nn.Module` class\n",
    "    and implements the necessary methods for defining the computation in the model.\n",
    "    \n",
    "    Attributes:\n",
    "        weights (nn.Parameter): The weight parameter of the linear regression model.\n",
    "        bias (nn.Parameter): The bias parameter of the linear regression model.\n",
    "    \"\"\"\n",
    "    \n",
    "    def __init__(self):\n",
    "        super().__init__()\n",
    "        \n",
    "        self.weights = nn.Parameter(torch.randn(1, requires_grad=True, dtype=torch.float32))\n",
    "        self.bias = nn.Parameter(torch.randn(1, requires_grad=True, dtype=torch.float32))\n",
    "\n",
    "    def forward(self, x: torch.Tensor) -> torch.Tensor:\n",
    "        \"\"\" Forward method to define the computation in the model. \"\"\"\n",
    "        return self.weights * x + self.bias"
   ]
  },
  {
   "cell_type": "markdown",
   "metadata": {},
   "source": [
    "* Subclass `nn.Module` contains all the building blocks for neural networks\n",
    "* Initialize `model.parameters` to be used in various computations (these could be different layers from `torch.nn`, single parameters, hard-coded values or functions)\n",
    "* `requires_grad=True` means PyTorch will track the gradients of this specific parameter for use with `torch.autograd` and gradient descent (for many `torch.nn` modules, `requires_grad=True` is set by default)\n",
    "* Any subclass of `nn.Module` needs to override `forward()` (this defines the forward computation of the model)"
   ]
  },
  {
   "cell_type": "markdown",
   "metadata": {},
   "source": [
    "### PyTorch model building essentials"
   ]
  },
  {
   "cell_type": "markdown",
   "metadata": {},
   "source": [
    "* `torch.nn` - Contains all of the buildings for computational graphs (a neural network can be considered a computational graph)\n",
    "* `torch.nn.Parameter` - What parameters should our model try and learn, often a PyTorch layer from `torch.nn` will set these for us\n",
    "* `torch.nn.Module` - The baseclass for all neural network modules, if you subclass it, one should override `forward()`\n",
    "* `torch.optim` - This is where the optimizers in PyTorch live, they will help with gradient descent\n",
    "* `def forward()` - All `nn.Module` subclasses require you to override `forward()`, this method defines what happens in the forward computation"
   ]
  },
  {
   "cell_type": "markdown",
   "metadata": {},
   "source": [
    "### Checking the contents of our PyTorch model"
   ]
  },
  {
   "cell_type": "markdown",
   "metadata": {},
   "source": [
    "Now we've created a model, let's see what's inside...\n",
    "\n",
    "So we can check our model parameters or what's inside our model using `.parameters()`."
   ]
  },
  {
   "cell_type": "code",
   "execution_count": 10,
   "metadata": {},
   "outputs": [
    {
     "data": {
      "text/plain": [
       "[Parameter containing:\n",
       " tensor([0.3367], requires_grad=True),\n",
       " Parameter containing:\n",
       " tensor([0.1288], requires_grad=True)]"
      ]
     },
     "execution_count": 10,
     "metadata": {},
     "output_type": "execute_result"
    }
   ],
   "source": [
    "# Create a random seed\n",
    "torch.manual_seed(42)\n",
    "\n",
    "# Create an instance of the LinearRegressionModel\n",
    "model_0 = LinearRegressionModel()\n",
    "\n",
    "# Check the model's parameters\n",
    "list(model_0.parameters())"
   ]
  },
  {
   "cell_type": "code",
   "execution_count": 11,
   "metadata": {},
   "outputs": [
    {
     "data": {
      "text/plain": [
       "OrderedDict([('weights', tensor([0.3367])), ('bias', tensor([0.1288]))])"
      ]
     },
     "execution_count": 11,
     "metadata": {},
     "output_type": "execute_result"
    }
   ],
   "source": [
    "# List named parameters\n",
    "model_0.state_dict()"
   ]
  },
  {
   "cell_type": "markdown",
   "metadata": {},
   "source": [
    "### Making predictions using `torch.inference_mode()`"
   ]
  },
  {
   "cell_type": "markdown",
   "metadata": {},
   "source": [
    "To check our model's predictive powern, let's see how well it predicts `y_test` based on `X_test`.\n",
    "\n",
    "When we pass data through our model, it's goingo to run through the `forward()` method."
   ]
  },
  {
   "cell_type": "code",
   "execution_count": 12,
   "metadata": {},
   "outputs": [
    {
     "data": {
      "text/plain": [
       "tensor([[0.3982],\n",
       "        [0.4049],\n",
       "        [0.4116],\n",
       "        [0.4184],\n",
       "        [0.4251],\n",
       "        [0.4318],\n",
       "        [0.4386],\n",
       "        [0.4453],\n",
       "        [0.4520],\n",
       "        [0.4588]])"
      ]
     },
     "execution_count": 12,
     "metadata": {},
     "output_type": "execute_result"
    }
   ],
   "source": [
    "# Make predictions with the model\n",
    "with torch.inference_mode():\n",
    "    y_preds = model_0(X_test)\n",
    "\n",
    "y_preds"
   ]
  },
  {
   "cell_type": "code",
   "execution_count": 13,
   "metadata": {},
   "outputs": [
    {
     "data": {
      "image/png": "[encoded data removed]",
      "text/plain": [
       "<Figure size 1000x700 with 1 Axes>"
      ]
     },
     "metadata": {},
     "output_type": "display_data"
    }
   ],
   "source": [
    "plot_predictions(predictions=y_preds)"
   ]
  },
  {
   "cell_type": "markdown",
   "metadata": {},
   "source": [
    "## 3. Train model"
   ]
  },
  {
   "cell_type": "markdown",
   "metadata": {},
   "source": [
    "\n",
    "The whole idea of training is for a model to move from some *unknown* parameters (these may be random) to some *know* parameters.  \n",
    "\n",
    "Or in other words from poor representation of the data to a better representation of the data.\n",
    "\n",
    "One way to measure how poor or how wrong our model predictions are, is to use a loss function.\n",
    "\n",
    "* Note: Loss function may also be called cost function or criterion in different areas. For our case, we're going to refer to it as a loss function.\n",
    "\n",
    "Things we need to train:\n",
    "\n",
    "* **Loss function**: A function to measuren how wrong the predictions are compared to the ideal output. The lower the better. \n",
    "* **Optimize.**: Takes into account the loss of the model and adjusts the model's parameters (e.g. weight & bias in our case) to improve the loss function.\n",
    "    * Inside the optimizer one'll often have to set two parameters:\n",
    "        * `params` - the model parameters one would like to optimize, for example `params=model_0.parameters()`\n",
    "        * `lr` - the learning rate is a hyperparameter that defines how big/small the optimizer changes the parameters with each step (a small `lr` results in small changes, a large `lr` results in large changes)\n",
    "\n",
    "And specifically for PyTorch, we need:\n",
    "* A training loop\n",
    "* A testing loop"
   ]
  },
  {
   "cell_type": "code",
   "execution_count": 14,
   "metadata": {},
   "outputs": [],
   "source": [
    "# Setup a loss function\n",
    "loss_fn = nn.L1Loss()\n",
    "\n",
    "# Setup an optimizer (SGD)\n",
    "optimizer = torch.optim.SGD(\n",
    "    model_0.parameters(), \n",
    "    lr=0.01)"
   ]
  },
  {
   "cell_type": "markdown",
   "metadata": {},
   "source": [
    "**Q**: Which loss function and opimizer should i use?  \n",
    "**A**: This will be problem specific. But with experience, one'll get an idea of what works and what does not with your particular problem set.\n",
    "\n",
    "For example, for a regression problem (like this one), a loss function of `nn.L1Loss` and an optimizer like `torch.optim.SGD()` will suffice.  \n",
    "But for a classification problem like classfying whether a photo is of a dog or a cat, one will likely want to use a loss function of `nn.BCELoss()` (binary cross entropy loss)."
   ]
  },
  {
   "cell_type": "markdown",
   "metadata": {},
   "source": [
    "### Building a training (and testing) loop in PyTorch"
   ]
  },
  {
   "cell_type": "markdown",
   "metadata": {},
   "source": [
    "A couple of things we need in a training loop:\n",
    "\n",
    "0. Loop through the data and do the following: \n",
    "1. Forward pass (this involves data moving throuwh our model's `forward()` functions) to make predictions on data - also called forward propagation\n",
    "2. Calculate the loss (compare forward pass predictions to ground truth labels)\n",
    "3. Optimizer zero grad\n",
    "4. Loss backward - move backwards through the network to calculate the gradients of each of the parameters of our model with respect to the loss (**backpropagation**)\n",
    "5. Optimizer step - Use the optimizer to adjust our model's parameters to try and improve the loss (**gradient descent**)"
   ]
  },
  {
   "cell_type": "code",
   "execution_count": 15,
   "metadata": {},
   "outputs": [
    {
     "name": "stdout",
     "output_type": "stream",
     "text": [
      "Epoch: 0 --- Loss: 0.31288138031959534 --- Test loss: 0.48106518387794495\n",
      "Model state_dict: OrderedDict({'weights': tensor([0.3406]), 'bias': tensor([0.1388])})\n",
      "Epoch: 10 --- Loss: 0.1976713240146637 --- Test loss: 0.3463551998138428\n",
      "Model state_dict: OrderedDict({'weights': tensor([0.3796]), 'bias': tensor([0.2388])})\n",
      "Epoch: 20 --- Loss: 0.08908725529909134 --- Test loss: 0.21729660034179688\n",
      "Model state_dict: OrderedDict({'weights': tensor([0.4184]), 'bias': tensor([0.3333])})\n",
      "Epoch: 30 --- Loss: 0.053148526698350906 --- Test loss: 0.14464017748832703\n",
      "Model state_dict: OrderedDict({'weights': tensor([0.4512]), 'bias': tensor([0.3768])})\n",
      "Epoch: 40 --- Loss: 0.04543796554207802 --- Test loss: 0.11360953003168106\n",
      "Model state_dict: OrderedDict({'weights': tensor([0.4748]), 'bias': tensor([0.3868])})\n",
      "Epoch: 50 --- Loss: 0.04167863354086876 --- Test loss: 0.09919948130846024\n",
      "Model state_dict: OrderedDict({'weights': tensor([0.4938]), 'bias': tensor([0.3843])})\n",
      "Epoch: 60 --- Loss: 0.03818932920694351 --- Test loss: 0.08886633068323135\n",
      "Model state_dict: OrderedDict({'weights': tensor([0.5116]), 'bias': tensor([0.3788])})\n",
      "Epoch: 70 --- Loss: 0.03476089984178543 --- Test loss: 0.0805937647819519\n",
      "Model state_dict: OrderedDict({'weights': tensor([0.5288]), 'bias': tensor([0.3718])})\n",
      "Epoch: 80 --- Loss: 0.03132382780313492 --- Test loss: 0.07232122868299484\n",
      "Model state_dict: OrderedDict({'weights': tensor([0.5459]), 'bias': tensor([0.3648])})\n",
      "Epoch: 90 --- Loss: 0.02788739837706089 --- Test loss: 0.06473556160926819\n",
      "Model state_dict: OrderedDict({'weights': tensor([0.5629]), 'bias': tensor([0.3573])})\n",
      "Epoch: 100 --- Loss: 0.024458957836031914 --- Test loss: 0.05646304413676262\n",
      "Model state_dict: OrderedDict({'weights': tensor([0.5800]), 'bias': tensor([0.3503])})\n",
      "Epoch: 110 --- Loss: 0.021020207554101944 --- Test loss: 0.04819049686193466\n",
      "Model state_dict: OrderedDict({'weights': tensor([0.5972]), 'bias': tensor([0.3433])})\n",
      "Epoch: 120 --- Loss: 0.01758546568453312 --- Test loss: 0.04060482233762741\n",
      "Model state_dict: OrderedDict({'weights': tensor([0.6141]), 'bias': tensor([0.3358])})\n",
      "Epoch: 130 --- Loss: 0.014155393466353416 --- Test loss: 0.03233227878808975\n",
      "Model state_dict: OrderedDict({'weights': tensor([0.6313]), 'bias': tensor([0.3288])})\n",
      "Epoch: 140 --- Loss: 0.010716589167714119 --- Test loss: 0.024059748277068138\n",
      "Model state_dict: OrderedDict({'weights': tensor([0.6485]), 'bias': tensor([0.3218])})\n",
      "Epoch: 150 --- Loss: 0.0072835334576666355 --- Test loss: 0.016474086791276932\n",
      "Model state_dict: OrderedDict({'weights': tensor([0.6654]), 'bias': tensor([0.3143])})\n",
      "Epoch: 160 --- Loss: 0.0038517764769494534 --- Test loss: 0.008201557211577892\n",
      "Model state_dict: OrderedDict({'weights': tensor([0.6826]), 'bias': tensor([0.3073])})\n",
      "Epoch: 170 --- Loss: 0.008932482451200485 --- Test loss: 0.005023092031478882\n",
      "Model state_dict: OrderedDict({'weights': tensor([0.6951]), 'bias': tensor([0.2993])})\n",
      "Epoch: 180 --- Loss: 0.008932482451200485 --- Test loss: 0.005023092031478882\n",
      "Model state_dict: OrderedDict({'weights': tensor([0.6951]), 'bias': tensor([0.2993])})\n",
      "Epoch: 190 --- Loss: 0.008932482451200485 --- Test loss: 0.005023092031478882\n",
      "Model state_dict: OrderedDict({'weights': tensor([0.6951]), 'bias': tensor([0.2993])})\n"
     ]
    }
   ],
   "source": [
    "torch.manual_seed(42)\n",
    "\n",
    "# An epoch is one loop through the entire dataset ... (this is a hyperparameter because we set it ourselves)\n",
    "epochs = 200\n",
    "\n",
    "epoch_count = []\n",
    "loss_values = []\n",
    "test_loss_values = []\n",
    "\n",
    "## Training the model\n",
    "# 0. Loop through the data\n",
    "for epoch in range(epochs):\n",
    "    model_0.train() # Set the model to train mode: Sets all parameters that require gradients to require gradients\n",
    "\n",
    "    y_pred = model_0(X_train) # Make predictions\n",
    "    \n",
    "    loss = loss_fn(y_train, y_pred) # Calculate the loss\n",
    "\n",
    "    optimizer.zero_grad() # Zero the gradients\n",
    "\n",
    "    loss.backward() # Calculate gradients\n",
    "\n",
    "    optimizer.step() # Update the weights\n",
    "\n",
    "    # Testing / Evaulating the model\n",
    "    model_0.eval() # Turns off different settings, which are not needed for testing/evaluation\n",
    "    with torch.inference_mode(): # Turns off gradient tracking\n",
    "        test_preds = model_0(X_test)  \n",
    "\n",
    "        test_loss = loss_fn(y_test, test_preds)\n",
    "\n",
    "    if epoch % 10 == 0:\n",
    "        epoch_count.append(epoch)\n",
    "        loss_values.append(loss)\n",
    "        test_loss_values.append(test_loss)\n",
    "        \n",
    "        print(f\"Epoch: {epoch} --- Loss: {loss} --- Test loss: {test_loss}\") \n",
    "        print(f\"Model state_dict: {model_0.state_dict()}\")"
   ]
  },
  {
   "cell_type": "code",
   "execution_count": 16,
   "metadata": {},
   "outputs": [
    {
     "data": {
      "image/png": "[encoded data removed]",
      "text/plain": [
       "<Figure size 1000x700 with 1 Axes>"
      ]
     },
     "metadata": {},
     "output_type": "display_data"
    }
   ],
   "source": [
    "# Plot the loss values over the epochs\n",
    "plt.figure(figsize=(10, 7))\n",
    "plt.plot(epoch_count, np.array(torch.tensor(loss_values).cpu().numpy()), label='training loss')\n",
    "plt.plot(epoch_count, test_loss_values, label='test loss')\n",
    "plt.xlabel('Epochs')\n",
    "plt.ylabel('Loss')\n",
    "plt.title('Training and test loss curves')\n",
    "plt.legend()\n",
    "plt.show()\n"
   ]
  },
  {
   "cell_type": "code",
   "execution_count": 17,
   "metadata": {},
   "outputs": [],
   "source": [
    "with torch.inference_mode():\n",
    "    y_preds_after_training = model_0(X_test)"
   ]
  },
  {
   "cell_type": "code",
   "execution_count": 18,
   "metadata": {},
   "outputs": [
    {
     "data": {
      "image/png": "[encoded data removed]",
      "text/plain": [
       "<Figure size 1000x700 with 1 Axes>"
      ]
     },
     "metadata": {},
     "output_type": "display_data"
    }
   ],
   "source": [
    "plot_predictions(predictions=y_preds_after_training)"
   ]
  },
  {
   "cell_type": "markdown",
   "metadata": {},
   "source": [
    "## Saving a model in PyTorch"
   ]
  },
  {
   "cell_type": "markdown",
   "metadata": {},
   "source": [
    "There are three main methods one should know about for saving and loading models in PyTorsch.\n",
    "\n",
    "1. `torch.save()` - allows you to save a PyTorch object in Python's .pkl-Format\n",
    "2. `torch.load()` - allows you to load a saved PyTorch object\n",
    "3. `torch.nn.Module.load_state_dict()` - allows to load a  model's saved state dictionary."
   ]
  },
  {
   "cell_type": "code",
   "execution_count": 19,
   "metadata": {},
   "outputs": [
    {
     "name": "stdout",
     "output_type": "stream",
     "text": [
      "Saving model to: models\\01_pytorch_workflow_model_0.pth\n"
     ]
    }
   ],
   "source": [
    "# 1. Create a directory to save the model\n",
    "MODEL_PATH = Path('models')\n",
    "MODEL_PATH.mkdir(parents=True, exist_ok=True)\n",
    "\n",
    "# 2. Create model save path\n",
    "MODEL_NAME = \"01_pytorch_workflow_model_0.pth\"\n",
    "MODEL_SAVE_PATH = MODEL_PATH / MODEL_NAME\n",
    "\n",
    "MODEL_SAVE_PATH\n",
    "\n",
    "# 3. Save model's state_dict\n",
    "print(f\"Saving model to: {MODEL_SAVE_PATH}\")\n",
    "torch.save(\n",
    "    obj=model_0.state_dict(), \n",
    "    f=MODEL_SAVE_PATH)"
   ]
  },
  {
   "cell_type": "markdown",
   "metadata": {},
   "source": [
    "## Loading a PyTorch model"
   ]
  },
  {
   "cell_type": "markdown",
   "metadata": {},
   "source": [
    "Since we saved our model's `state_dict()` rather the entire model, we'll create a new instance of our model class and load the saved `state_dict()` into that."
   ]
  },
  {
   "cell_type": "code",
   "execution_count": 20,
   "metadata": {},
   "outputs": [
    {
     "data": {
      "text/plain": [
       "<All keys matched successfully>"
      ]
     },
     "execution_count": 20,
     "metadata": {},
     "output_type": "execute_result"
    }
   ],
   "source": [
    "# To load in a saved state_dict we have to instantiate a new instance of our model class\n",
    "loaded_model_0 = LinearRegressionModel()\n",
    "\n",
    "# Load the saved state_dict of model_0 (this will update the new instance with updated parameters)\n",
    "loaded_model_0.load_state_dict(torch.load(f=MODEL_SAVE_PATH))"
   ]
  },
  {
   "cell_type": "code",
   "execution_count": 21,
   "metadata": {},
   "outputs": [
    {
     "data": {
      "text/plain": [
       "(OrderedDict([('weights', tensor([0.6990])), ('bias', tensor([0.3093]))]),\n",
       " OrderedDict([('weights', tensor([0.6990])), ('bias', tensor([0.3093]))]))"
      ]
     },
     "execution_count": 21,
     "metadata": {},
     "output_type": "execute_result"
    }
   ],
   "source": [
    "loaded_model_0.state_dict(), model_0.state_dict()"
   ]
  },
  {
   "cell_type": "code",
   "execution_count": 22,
   "metadata": {},
   "outputs": [
    {
     "data": {
      "text/plain": [
       "tensor([[0.8685],\n",
       "        [0.8825],\n",
       "        [0.8965],\n",
       "        [0.9105],\n",
       "        [0.9245],\n",
       "        [0.9384],\n",
       "        [0.9524],\n",
       "        [0.9664],\n",
       "        [0.9804],\n",
       "        [0.9944]])"
      ]
     },
     "execution_count": 22,
     "metadata": {},
     "output_type": "execute_result"
    }
   ],
   "source": [
    "# Moke some predictions with our loaded model\n",
    "loaded_model_0.eval()\n",
    "with torch.inference_mode():\n",
    "    loaded_model_preds = loaded_model_0(X_test)\n",
    "\n",
    "loaded_model_preds"
   ]
  },
  {
   "cell_type": "code",
   "execution_count": 23,
   "metadata": {},
   "outputs": [
    {
     "data": {
      "text/plain": [
       "tensor([[True],\n",
       "        [True],\n",
       "        [True],\n",
       "        [True],\n",
       "        [True],\n",
       "        [True],\n",
       "        [True],\n",
       "        [True],\n",
       "        [True],\n",
       "        [True]])"
      ]
     },
     "execution_count": 23,
     "metadata": {},
     "output_type": "execute_result"
    }
   ],
   "source": [
    "# Compare loaded model preds with original model preds\n",
    "y_preds_after_training == loaded_model_preds"
   ]
  },
  {
   "cell_type": "markdown",
   "metadata": {},
   "source": [
    "## 6. Putting it all together"
   ]
  },
  {
   "cell_type": "markdown",
   "metadata": {},
   "source": [
    "Let's go back through the steps above and see it all in one place."
   ]
  },
  {
   "cell_type": "code",
   "execution_count": 24,
   "metadata": {},
   "outputs": [],
   "source": [
    "# Import PyTorch and matplotlib\n",
    "import torch\n",
    "from torch import nn\n",
    "import matplotlib.pyplot as plt"
   ]
  },
  {
   "cell_type": "code",
   "execution_count": 25,
   "metadata": {},
   "outputs": [
    {
     "data": {
      "text/plain": [
       "'2.6.0+cpu'"
      ]
     },
     "execution_count": 25,
     "metadata": {},
     "output_type": "execute_result"
    }
   ],
   "source": [
    "# Check PyTorch version\n",
    "torch.__version__"
   ]
  },
  {
   "cell_type": "markdown",
   "metadata": {},
   "source": [
    "Create device-agrostic code.\n",
    "\n",
    "This means if we've got access to a GPU, our code will use it (for potentially faster computing).\n",
    "\n",
    "If no GPU is available, the code will default to using the CPU."
   ]
  },
  {
   "cell_type": "code",
   "execution_count": 26,
   "metadata": {},
   "outputs": [
    {
     "name": "stdout",
     "output_type": "stream",
     "text": [
      "Using cpu\n"
     ]
    }
   ],
   "source": [
    "# Check for GPU\n",
    "device = \"cuda\" if torch.cuda.is_available() else \"cpu\"\n",
    "print(f\"Using {device}\")"
   ]
  },
  {
   "cell_type": "markdown",
   "metadata": {},
   "source": [
    "### 6.1 Data"
   ]
  },
  {
   "cell_type": "code",
   "execution_count": 27,
   "metadata": {},
   "outputs": [],
   "source": [
    "# Create some data using the linear regression equation y = wx + b\n",
    "weight = 0.7\n",
    "bias = 0.3\n",
    "\n",
    "# Create range values\n",
    "start = 0\n",
    "end = 1\n",
    "step = 0.02\n",
    "\n",
    "# Create X and y (features and labels)\n",
    "X = torch.arange(start, end, step).unsqueeze(dim=1)\n",
    "y = weight * X + bias"
   ]
  },
  {
   "cell_type": "code",
   "execution_count": 28,
   "metadata": {},
   "outputs": [
    {
     "data": {
      "text/plain": [
       "(40, 40, 10, 10)"
      ]
     },
     "execution_count": 28,
     "metadata": {},
     "output_type": "execute_result"
    }
   ],
   "source": [
    "# Split the data into training and test sets\n",
    "train_split = int(0.8 * len(X))\n",
    "X_train, y_train = X[:train_split], y[:train_split]\n",
    "X_test, y_test = X[train_split:], y[train_split:]\n",
    "len(X_train), len(y_train), len(X_test), len(y_test)"
   ]
  },
  {
   "cell_type": "code",
   "execution_count": 29,
   "metadata": {},
   "outputs": [
    {
     "data": {
      "image/png": "[encoded data removed]",
      "text/plain": [
       "<Figure size 1000x700 with 1 Axes>"
      ]
     },
     "metadata": {},
     "output_type": "display_data"
    }
   ],
   "source": [
    "# Plot the data\n",
    "# Note: If you do not have the plot_predictions() function loaded, the call will fail\n",
    "plot_predictions(train_data=X_train, \n",
    "                 train_labels=y_train, \n",
    "                 test_data=X_test, \n",
    "                 test_labels=y_test)"
   ]
  },
  {
   "cell_type": "markdown",
   "metadata": {},
   "source": [
    "### 6.2 Building a PyTorch Linear Model"
   ]
  },
  {
   "cell_type": "code",
   "execution_count": 30,
   "metadata": {},
   "outputs": [],
   "source": [
    "# Create a linear regression model by subclassing nn.Module\n",
    "class LinearRegressionModel_2(nn.Module):\n",
    "    \"\"\"A simple linear regression model.\"\"\"\n",
    "    \n",
    "    def __init__(self):\n",
    "        super().__init__()\n",
    "        # Use nn.Linear() to create the model parameters\n",
    "        self.linear_layer = nn.Linear(in_features=1, out_features=1)\n",
    "\n",
    "    def forward(self, x: torch.Tensor) -> torch.Tensor:\n",
    "        return self.linear_layer(x)"
   ]
  },
  {
   "cell_type": "code",
   "execution_count": 31,
   "metadata": {},
   "outputs": [
    {
     "data": {
      "text/plain": [
       "(LinearRegressionModel_2(\n",
       "   (linear_layer): Linear(in_features=1, out_features=1, bias=True)\n",
       " ),\n",
       " OrderedDict([('linear_layer.weight', tensor([[0.7645]])),\n",
       "              ('linear_layer.bias', tensor([0.8300]))]))"
      ]
     },
     "execution_count": 31,
     "metadata": {},
     "output_type": "execute_result"
    }
   ],
   "source": [
    "# Set manual seed for reproducibility\n",
    "torch.manual_seed(42)\n",
    "model_1 = LinearRegressionModel_2()\n",
    "model_1, model_1.state_dict()"
   ]
  },
  {
   "cell_type": "code",
   "execution_count": 32,
   "metadata": {},
   "outputs": [],
   "source": [
    "# Set the model to use the target device\n",
    "model_1.to(device)\n",
    "X_train, y_train = X_train.to(device), y_train.to(device)\n",
    "X_test, y_test = X_test.to(device), y_test.to(device)"
   ]
  },
  {
   "cell_type": "markdown",
   "metadata": {},
   "source": [
    "### 6.3 Train the model"
   ]
  },
  {
   "cell_type": "markdown",
   "metadata": {},
   "source": [
    "For training we need:\n",
    "* Loss function\n",
    "* Optimizer\n",
    "* Training loop\n",
    "* Testing loop"
   ]
  },
  {
   "cell_type": "code",
   "execution_count": 33,
   "metadata": {},
   "outputs": [],
   "source": [
    "# Setup Loss function and optimizer\n",
    "loss_fn = nn.L1Loss()\n",
    "optimizer = torch.optim.SGD(model_1.parameters(), lr=0.01)"
   ]
  },
  {
   "cell_type": "code",
   "execution_count": 34,
   "metadata": {},
   "outputs": [
    {
     "name": "stdout",
     "output_type": "stream",
     "text": [
      "Epoch: 0 --- Loss: 0.5551779866218567 --- Test loss: 0.5739762187004089\n",
      "Epoch: 10 --- Loss: 0.4399680495262146 --- Test loss: 0.4392663538455963\n",
      "Epoch: 20 --- Loss: 0.3247582018375397 --- Test loss: 0.30455657839775085\n",
      "Epoch: 30 --- Loss: 0.20954827964305878 --- Test loss: 0.16984674334526062\n",
      "Epoch: 40 --- Loss: 0.09433844685554504 --- Test loss: 0.03513689711689949\n",
      "Epoch: 50 --- Loss: 0.023886386305093765 --- Test loss: 0.04784906655550003\n",
      "Epoch: 60 --- Loss: 0.0199567973613739 --- Test loss: 0.04580312222242355\n",
      "Epoch: 70 --- Loss: 0.016517987474799156 --- Test loss: 0.0375305712223053\n",
      "Epoch: 80 --- Loss: 0.013089170679450035 --- Test loss: 0.029944902285933495\n",
      "Epoch: 90 --- Loss: 0.009653178043663502 --- Test loss: 0.02167237363755703\n",
      "Epoch: 100 --- Loss: 0.006215679459273815 --- Test loss: 0.014086711220443249\n",
      "Epoch: 110 --- Loss: 0.002787243574857712 --- Test loss: 0.005814164876937866\n",
      "Epoch: 120 --- Loss: 0.0012645035749301314 --- Test loss: 0.013801807537674904\n",
      "Epoch: 130 --- Loss: 0.0012645035749301314 --- Test loss: 0.013801807537674904\n",
      "Epoch: 140 --- Loss: 0.0012645035749301314 --- Test loss: 0.013801807537674904\n",
      "Epoch: 150 --- Loss: 0.0012645035749301314 --- Test loss: 0.013801807537674904\n",
      "Epoch: 160 --- Loss: 0.0012645035749301314 --- Test loss: 0.013801807537674904\n",
      "Epoch: 170 --- Loss: 0.0012645035749301314 --- Test loss: 0.013801807537674904\n",
      "Epoch: 180 --- Loss: 0.0012645035749301314 --- Test loss: 0.013801807537674904\n",
      "Epoch: 190 --- Loss: 0.0012645035749301314 --- Test loss: 0.013801807537674904\n",
      "Epoch: 200 --- Loss: 0.0012645035749301314 --- Test loss: 0.013801807537674904\n"
     ]
    }
   ],
   "source": [
    "# Training loop\n",
    "torch.manual_seed(42)\n",
    "\n",
    "epochs = 201\n",
    "\n",
    "for epoch in range(epochs):\n",
    "    model_1.train()\n",
    "\n",
    "    # 1. Forward pass\n",
    "    y_pred = model_1(X_train)\n",
    "\n",
    "    # 2. Calculate loss\n",
    "    loss = loss_fn(y_train, y_pred)\n",
    "\n",
    "    # 3. Zero the gradients\n",
    "    optimizer.zero_grad()\n",
    "\n",
    "    # 4. Backward pass\n",
    "    loss.backward()\n",
    "\n",
    "    # 5. Update the weights\n",
    "    optimizer.step()\n",
    "\n",
    "    # Testing loop\n",
    "    model_1.eval()\n",
    "\n",
    "    with torch.inference_mode():\n",
    "        test_preds = model_1(X_test)\n",
    "\n",
    "        test_loss = loss_fn(y_test, test_preds)\n",
    "\n",
    "    # Print out whats happening\n",
    "    if epoch % 10 == 0:\n",
    "        print(f\"Epoch: {epoch} --- Loss: {loss} --- Test loss: {test_loss}\")"
   ]
  },
  {
   "cell_type": "code",
   "execution_count": 35,
   "metadata": {},
   "outputs": [
    {
     "data": {
      "text/plain": [
       "(OrderedDict([('linear_layer.weight', tensor([[0.6929]])),\n",
       "              ('linear_layer.bias', tensor([0.2925]))]),\n",
       " 'cpu')"
      ]
     },
     "execution_count": 35,
     "metadata": {},
     "output_type": "execute_result"
    }
   ],
   "source": [
    "model_1.state_dict(), device"
   ]
  },
  {
   "cell_type": "markdown",
   "metadata": {},
   "source": [
    "### 6.4 Making and evaluating predictions"
   ]
  },
  {
   "cell_type": "code",
   "execution_count": 36,
   "metadata": {},
   "outputs": [
    {
     "data": {
      "text/plain": [
       "tensor([[0.8468],\n",
       "        [0.8607],\n",
       "        [0.8746],\n",
       "        [0.8884],\n",
       "        [0.9023],\n",
       "        [0.9161],\n",
       "        [0.9300],\n",
       "        [0.9438],\n",
       "        [0.9577],\n",
       "        [0.9716]])"
      ]
     },
     "execution_count": 36,
     "metadata": {},
     "output_type": "execute_result"
    }
   ],
   "source": [
    "# Turn the model into evaluation mode\n",
    "model_1.eval()\n",
    "\n",
    "# Make predictions with the test data\n",
    "with torch.inference_mode():\n",
    "    y_preds_after_training = model_1(X_test)\n",
    "y_preds_after_training"
   ]
  },
  {
   "cell_type": "code",
   "execution_count": 37,
   "metadata": {},
   "outputs": [
    {
     "data": {
      "image/png": "[encoded data removed]",
      "text/plain": [
       "<Figure size 1000x700 with 1 Axes>"
      ]
     },
     "metadata": {},
     "output_type": "display_data"
    }
   ],
   "source": [
    "# Plot the predictions\n",
    "plot_predictions(predictions=y_preds_after_training.to(\"cpu\"))"
   ]
  },
  {
   "cell_type": "markdown",
   "metadata": {},
   "source": [
    "### 6.5 Save and load"
   ]
  },
  {
   "cell_type": "code",
   "execution_count": 38,
   "metadata": {},
   "outputs": [
    {
     "name": "stdout",
     "output_type": "stream",
     "text": [
      "Saving model to: models\\01_pytorch_workflow_model_1.pth\n"
     ]
    }
   ],
   "source": [
    "from pathlib import Path\n",
    "\n",
    "# 1. Create a directory to save the model\n",
    "MODEL_PATH = Path('models')\n",
    "MODEL_PATH.mkdir(parents=True, exist_ok=True)\n",
    "\n",
    "# 2. Create model save path\n",
    "MODEL_NAME = \"01_pytorch_workflow_model_1.pth\"\n",
    "MODEL_SAVE_PATH = MODEL_PATH / MODEL_NAME\n",
    "\n",
    "# 3. Save model's state_dict\n",
    "print(f\"Saving model to: {MODEL_SAVE_PATH}\")\n",
    "torch.save(\n",
    "    obj=model_1.state_dict(), \n",
    "    f=MODEL_SAVE_PATH)"
   ]
  },
  {
   "cell_type": "code",
   "execution_count": 39,
   "metadata": {},
   "outputs": [
    {
     "data": {
      "text/plain": [
       "OrderedDict([('linear_layer.weight', tensor([[0.6929]])),\n",
       "             ('linear_layer.bias', tensor([0.2925]))])"
      ]
     },
     "execution_count": 39,
     "metadata": {},
     "output_type": "execute_result"
    }
   ],
   "source": [
    "model_1.state_dict()"
   ]
  },
  {
   "cell_type": "code",
   "execution_count": 40,
   "metadata": {},
   "outputs": [
    {
     "data": {
      "text/plain": [
       "LinearRegressionModel_2(\n",
       "  (linear_layer): Linear(in_features=1, out_features=1, bias=True)\n",
       ")"
      ]
     },
     "execution_count": 40,
     "metadata": {},
     "output_type": "execute_result"
    }
   ],
   "source": [
    "# To load in a saved state_dict we have to instantiate a new instance of our model class\n",
    "loaded_model_1 = LinearRegressionModel_2()\n",
    "\n",
    "# Load the saved state_dict of model_0 (this will update the new instance with updated parameters)\n",
    "loaded_model_1.load_state_dict(torch.load(f=MODEL_SAVE_PATH))\n",
    "\n",
    "# Put it to device\n",
    "loaded_model_1.to(device)"
   ]
  },
  {
   "cell_type": "code",
   "execution_count": 41,
   "metadata": {},
   "outputs": [
    {
     "data": {
      "text/plain": [
       "tensor([[0.8468],\n",
       "        [0.8607],\n",
       "        [0.8746],\n",
       "        [0.8884],\n",
       "        [0.9023],\n",
       "        [0.9161],\n",
       "        [0.9300],\n",
       "        [0.9438],\n",
       "        [0.9577],\n",
       "        [0.9716]])"
      ]
     },
     "execution_count": 41,
     "metadata": {},
     "output_type": "execute_result"
    }
   ],
   "source": [
    "# Make predictions with loaded model\n",
    "loaded_model_1.eval()\n",
    "\n",
    "with torch.inference_mode():\n",
    "    loaded_model_preds = loaded_model_1(X_test)\n",
    "loaded_model_preds"
   ]
  },
  {
   "cell_type": "code",
   "execution_count": 42,
   "metadata": {},
   "outputs": [
    {
     "data": {
      "text/plain": [
       "tensor([[True],\n",
       "        [True],\n",
       "        [True],\n",
       "        [True],\n",
       "        [True],\n",
       "        [True],\n",
       "        [True],\n",
       "        [True],\n",
       "        [True],\n",
       "        [True]])"
      ]
     },
     "execution_count": 42,
     "metadata": {},
     "output_type": "execute_result"
    }
   ],
   "source": [
    "loaded_model_preds == y_preds_after_training"
   ]
  },
  {
   "cell_type": "code",
   "execution_count": 43,
   "metadata": {},
   "outputs": [
    {
     "data": {
      "image/png": "[encoded data removed]",
      "text/plain": [
       "<Figure size 1000x700 with 1 Axes>"
      ]
     },
     "metadata": {},
     "output_type": "display_data"
    }
   ],
   "source": [
    "# plot the predictions\n",
    "plot_predictions(predictions=loaded_model_preds.to(\"cpu\"))"
   ]
  },
  {
   "cell_type": "code",
   "execution_count": null,
   "metadata": {},
   "outputs": [],
   "source": []
  }
 ],
 "metadata": {
  "kernelspec": {
   "display_name": ".venv",
   "language": "python",
   "name": "python3"
  },
  "language_info": {
   "codemirror_mode": {
    "name": "ipython",
    "version": 3
   },
   "file_extension": ".py",
   "mimetype": "text/x-python",
   "name": "python",
   "nbconvert_exporter": "python",
   "pygments_lexer": "ipython3",
   "version": "3.13.2"
  }
 },
 "nbformat": 4,
 "nbformat_minor": 2
}
